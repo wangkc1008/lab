{
 "cells": [
  {
   "cell_type": "code",
   "execution_count": 1,
   "metadata": {},
   "outputs": [],
   "source": [
    "import numpy as np\n",
    "import pandas as pd"
   ]
  },
  {
   "cell_type": "code",
   "execution_count": 2,
   "metadata": {},
   "outputs": [
    {
     "data": {
      "text/plain": [
       "(5430, 89)"
      ]
     },
     "execution_count": 2,
     "metadata": {},
     "output_type": "execute_result"
    }
   ],
   "source": [
    "file_name = 'C:/Users/wangkc/Desktop/python/CLOUT/CLOUT/hxf/new/total_20200709.csv'  # 读入文件\n",
    "data = pd.read_csv(file_name)\n",
    "data.shape"
   ]
  },
  {
   "cell_type": "code",
   "execution_count": 3,
   "metadata": {},
   "outputs": [
    {
     "data": {
      "text/plain": [
       "Index(['hadm_id', 'hadm_id.1', 'subject_id', 'admittime', 'dischtime',\n",
       "       'deathtime', 'discharge_location', 'religion', 'marital_status',\n",
       "       'ethnicity', 'diagnosis', 'gender', 'dob', 'dod', 'expire_flag',\n",
       "       'descriptin', '228151', '228152', '225309', '618', '8555', '220046',\n",
       "       '225310', '226534', '226537', '226540', '226761', '226762', '227017',\n",
       "       '227062', '227063', '227242', '227243', '227429', '227444', '220545',\n",
       "       '220050', '220650', '224167', '224643', '1522', '1523', '1529',\n",
       "       '220051', '1535', '1536', '1539', '1542', '781', '6', '51', '220180',\n",
       "       '813', '442', '455', '220210', '814', '482', '484', '8440', '8441',\n",
       "       '837', '851', '861', '220228', '1127', '8445', '8446', '6701', '8364',\n",
       "       '8368', '50861', '50862', '50878', '50912', '50954', '51464', '50910',\n",
       "       '50911', '50963', '50909', '50903', '50904', '50905', '50907', '51000',\n",
       "       '50927', '50906', '50945'],\n",
       "      dtype='object')"
      ]
     },
     "execution_count": 3,
     "metadata": {},
     "output_type": "execute_result"
    }
   ],
   "source": [
    "data.columns"
   ]
  },
  {
   "cell_type": "code",
   "execution_count": 4,
   "metadata": {},
   "outputs": [
    {
     "data": {
      "text/plain": [
       "0        63\n",
       "1        77\n",
       "2        82\n",
       "3        86\n",
       "4        88\n",
       "       ... \n",
       "5425     66\n",
       "5426     62\n",
       "5427     54\n",
       "5428    307\n",
       "5429     54\n",
       "Length: 5430, dtype: int64"
      ]
     },
     "execution_count": 4,
     "metadata": {},
     "output_type": "execute_result"
    }
   ],
   "source": [
    "age = (pd.to_datetime(data['admittime']).dt.year - pd.to_datetime(data['dob']).dt.year)\n",
    "age"
   ]
  },
  {
   "cell_type": "code",
   "execution_count": 5,
   "metadata": {},
   "outputs": [],
   "source": [
    "age[age > 89] = age[age > 89] - 211"
   ]
  },
  {
   "cell_type": "code",
   "execution_count": 6,
   "metadata": {},
   "outputs": [
    {
     "data": {
      "text/plain": [
       "0       63\n",
       "1       77\n",
       "2       82\n",
       "3       86\n",
       "4       88\n",
       "        ..\n",
       "5425    66\n",
       "5426    62\n",
       "5427    54\n",
       "5428    96\n",
       "5429    54\n",
       "Length: 5430, dtype: int64"
      ]
     },
     "execution_count": 6,
     "metadata": {},
     "output_type": "execute_result"
    }
   ],
   "source": [
    "age"
   ]
  },
  {
   "cell_type": "code",
   "execution_count": 7,
   "metadata": {},
   "outputs": [
    {
     "data": {
      "text/plain": [
       "(5430, 90)"
      ]
     },
     "execution_count": 7,
     "metadata": {},
     "output_type": "execute_result"
    }
   ],
   "source": [
    "data['age'] = age\n",
    "data.shape"
   ]
  },
  {
   "cell_type": "code",
   "execution_count": 8,
   "metadata": {},
   "outputs": [
    {
     "name": "stderr",
     "output_type": "stream",
     "text": [
      "D:\\ProgramData\\Anaconda3\\lib\\site-packages\\ipykernel_launcher.py:4: DeprecationWarning: parsing timezone aware datetimes is deprecated; this will raise an error in the future\n",
      "  after removing the cwd from sys.path.\n"
     ]
    }
   ],
   "source": [
    "import datetime as dt\n",
    "\n",
    "def convert(x):\n",
    "    return (pd.to_datetime(x) - np.datetime64('1970-01-01T08:00:00Z')) / np.timedelta64(1, 's')\n",
    "\n",
    "data['flag'] = np.zeros(data.shape[0])\n",
    "for i in data.iterrows():\n",
    "    if i[1]['expire_flag'] == 1:\n",
    "        if (convert(i[1]['dod']) - convert(i[1]['admittime'])) < 365 * 24 * 3600:\n",
    "            data.loc[i[0], 'flag'] = 1"
   ]
  },
  {
   "cell_type": "code",
   "execution_count": 9,
   "metadata": {},
   "outputs": [
    {
     "data": {
      "text/plain": [
       "1627"
      ]
     },
     "execution_count": 9,
     "metadata": {},
     "output_type": "execute_result"
    }
   ],
   "source": [
    "data['flag'][data['flag'] == 1].count()"
   ]
  },
  {
   "cell_type": "code",
   "execution_count": 10,
   "metadata": {},
   "outputs": [
    {
     "data": {
      "text/plain": [
       "(5430, 83)"
      ]
     },
     "execution_count": 10,
     "metadata": {},
     "output_type": "execute_result"
    }
   ],
   "source": [
    "data = data.drop(labels=['hadm_id','hadm_id.1', 'subject_id', 'admittime', 'dischtime', 'deathtime', 'dob', 'dod'], axis=1)\n",
    "data.shape"
   ]
  },
  {
   "cell_type": "code",
   "execution_count": 11,
   "metadata": {},
   "outputs": [
    {
     "data": {
      "text/html": [
       "<div>\n",
       "<style scoped>\n",
       "    .dataframe tbody tr th:only-of-type {\n",
       "        vertical-align: middle;\n",
       "    }\n",
       "\n",
       "    .dataframe tbody tr th {\n",
       "        vertical-align: top;\n",
       "    }\n",
       "\n",
       "    .dataframe thead th {\n",
       "        text-align: right;\n",
       "    }\n",
       "</style>\n",
       "<table border=\"1\" class=\"dataframe\">\n",
       "  <thead>\n",
       "    <tr style=\"text-align: right;\">\n",
       "      <th></th>\n",
       "      <th>discharge_location</th>\n",
       "      <th>religion</th>\n",
       "      <th>marital_status</th>\n",
       "      <th>ethnicity</th>\n",
       "      <th>diagnosis</th>\n",
       "      <th>gender</th>\n",
       "      <th>expire_flag</th>\n",
       "      <th>descriptin</th>\n",
       "      <th>228151</th>\n",
       "      <th>228152</th>\n",
       "      <th>...</th>\n",
       "      <th>50903</th>\n",
       "      <th>50904</th>\n",
       "      <th>50905</th>\n",
       "      <th>50907</th>\n",
       "      <th>51000</th>\n",
       "      <th>50927</th>\n",
       "      <th>50906</th>\n",
       "      <th>50945</th>\n",
       "      <th>age</th>\n",
       "      <th>flag</th>\n",
       "    </tr>\n",
       "  </thead>\n",
       "  <tbody>\n",
       "    <tr>\n",
       "      <th>0</th>\n",
       "      <td>HOME HEALTH CARE</td>\n",
       "      <td>NOT SPECIFIED</td>\n",
       "      <td>MARRIED</td>\n",
       "      <td>WHITE</td>\n",
       "      <td>CHEST PAIN/ CATH</td>\n",
       "      <td>F</td>\n",
       "      <td>0</td>\n",
       "      <td>PERCUTANEOUS CARDIOVASCULAR PROCEDURES WITH AC...</td>\n",
       "      <td>NaN</td>\n",
       "      <td>NaN</td>\n",
       "      <td>...</td>\n",
       "      <td>3.0</td>\n",
       "      <td>47</td>\n",
       "      <td>64.0</td>\n",
       "      <td>141</td>\n",
       "      <td>152</td>\n",
       "      <td>NaN</td>\n",
       "      <td>NaN</td>\n",
       "      <td>NaN</td>\n",
       "      <td>63</td>\n",
       "      <td>0.0</td>\n",
       "    </tr>\n",
       "    <tr>\n",
       "      <th>1</th>\n",
       "      <td>HOME</td>\n",
       "      <td>PROTESTANT QUAKER</td>\n",
       "      <td>WIDOWED</td>\n",
       "      <td>WHITE</td>\n",
       "      <td>CORONARY ARTERY DISEASE</td>\n",
       "      <td>F</td>\n",
       "      <td>0</td>\n",
       "      <td>PERCUTANEOUS CARDIOVASCULAR PROCEDURES WITH AC...</td>\n",
       "      <td>NaN</td>\n",
       "      <td>NaN</td>\n",
       "      <td>...</td>\n",
       "      <td>NaN</td>\n",
       "      <td>NaN</td>\n",
       "      <td>NaN</td>\n",
       "      <td>NaN</td>\n",
       "      <td>NaN</td>\n",
       "      <td>NaN</td>\n",
       "      <td>NaN</td>\n",
       "      <td>NaN</td>\n",
       "      <td>77</td>\n",
       "      <td>0.0</td>\n",
       "    </tr>\n",
       "    <tr>\n",
       "      <th>2</th>\n",
       "      <td>REHAB/DISTINCT PART HOSP</td>\n",
       "      <td>UNOBTAINABLE</td>\n",
       "      <td>WIDOWED</td>\n",
       "      <td>UNKNOWN/NOT SPECIFIED</td>\n",
       "      <td>ST ELEVATION MI\\CATH</td>\n",
       "      <td>F</td>\n",
       "      <td>0</td>\n",
       "      <td>PERCUTANEOUS CARDIOVASCULAR PROCEDURES WITH AC...</td>\n",
       "      <td>NaN</td>\n",
       "      <td>NaN</td>\n",
       "      <td>...</td>\n",
       "      <td>5.1</td>\n",
       "      <td>42</td>\n",
       "      <td>154.0</td>\n",
       "      <td>216</td>\n",
       "      <td>101</td>\n",
       "      <td>NaN</td>\n",
       "      <td>NaN</td>\n",
       "      <td>NaN</td>\n",
       "      <td>82</td>\n",
       "      <td>0.0</td>\n",
       "    </tr>\n",
       "    <tr>\n",
       "      <th>3</th>\n",
       "      <td>HOME HEALTH CARE</td>\n",
       "      <td>CATHOLIC</td>\n",
       "      <td>MARRIED</td>\n",
       "      <td>WHITE</td>\n",
       "      <td>ACUTE CORONARY SYNDROME</td>\n",
       "      <td>M</td>\n",
       "      <td>1</td>\n",
       "      <td>Acute Myocardial Infarction</td>\n",
       "      <td>NaN</td>\n",
       "      <td>NaN</td>\n",
       "      <td>...</td>\n",
       "      <td>NaN</td>\n",
       "      <td>NaN</td>\n",
       "      <td>NaN</td>\n",
       "      <td>NaN</td>\n",
       "      <td>NaN</td>\n",
       "      <td>NaN</td>\n",
       "      <td>NaN</td>\n",
       "      <td>NaN</td>\n",
       "      <td>86</td>\n",
       "      <td>0.0</td>\n",
       "    </tr>\n",
       "    <tr>\n",
       "      <th>4</th>\n",
       "      <td>DEAD/EXPIRED</td>\n",
       "      <td>CATHOLIC</td>\n",
       "      <td>WIDOWED</td>\n",
       "      <td>WHITE</td>\n",
       "      <td>SEIZURE</td>\n",
       "      <td>F</td>\n",
       "      <td>1</td>\n",
       "      <td>NERVOUS SYSTEM INFECTION EXCEPT VIRAL MENINGITIS</td>\n",
       "      <td>NaN</td>\n",
       "      <td>NaN</td>\n",
       "      <td>...</td>\n",
       "      <td>4.3</td>\n",
       "      <td>59</td>\n",
       "      <td>168.0</td>\n",
       "      <td>256</td>\n",
       "      <td>144</td>\n",
       "      <td>NaN</td>\n",
       "      <td>NaN</td>\n",
       "      <td>NaN</td>\n",
       "      <td>88</td>\n",
       "      <td>1.0</td>\n",
       "    </tr>\n",
       "  </tbody>\n",
       "</table>\n",
       "<p>5 rows × 83 columns</p>\n",
       "</div>"
      ],
      "text/plain": [
       "         discharge_location           religion marital_status  \\\n",
       "0          HOME HEALTH CARE      NOT SPECIFIED        MARRIED   \n",
       "1                      HOME  PROTESTANT QUAKER        WIDOWED   \n",
       "2  REHAB/DISTINCT PART HOSP       UNOBTAINABLE        WIDOWED   \n",
       "3          HOME HEALTH CARE           CATHOLIC        MARRIED   \n",
       "4              DEAD/EXPIRED           CATHOLIC        WIDOWED   \n",
       "\n",
       "               ethnicity                diagnosis gender  expire_flag  \\\n",
       "0                  WHITE         CHEST PAIN/ CATH      F            0   \n",
       "1                  WHITE  CORONARY ARTERY DISEASE      F            0   \n",
       "2  UNKNOWN/NOT SPECIFIED     ST ELEVATION MI\\CATH      F            0   \n",
       "3                  WHITE  ACUTE CORONARY SYNDROME      M            1   \n",
       "4                  WHITE                  SEIZURE      F            1   \n",
       "\n",
       "                                          descriptin  228151  228152  ...  \\\n",
       "0  PERCUTANEOUS CARDIOVASCULAR PROCEDURES WITH AC...     NaN     NaN  ...   \n",
       "1  PERCUTANEOUS CARDIOVASCULAR PROCEDURES WITH AC...     NaN     NaN  ...   \n",
       "2  PERCUTANEOUS CARDIOVASCULAR PROCEDURES WITH AC...     NaN     NaN  ...   \n",
       "3                        Acute Myocardial Infarction     NaN     NaN  ...   \n",
       "4   NERVOUS SYSTEM INFECTION EXCEPT VIRAL MENINGITIS     NaN     NaN  ...   \n",
       "\n",
       "   50903  50904  50905  50907  51000  50927  50906  50945  age  flag  \n",
       "0    3.0     47   64.0    141    152    NaN    NaN    NaN   63   0.0  \n",
       "1    NaN    NaN    NaN    NaN    NaN    NaN    NaN    NaN   77   0.0  \n",
       "2    5.1     42  154.0    216    101    NaN    NaN    NaN   82   0.0  \n",
       "3    NaN    NaN    NaN    NaN    NaN    NaN    NaN    NaN   86   0.0  \n",
       "4    4.3     59  168.0    256    144    NaN    NaN    NaN   88   1.0  \n",
       "\n",
       "[5 rows x 83 columns]"
      ]
     },
     "execution_count": 11,
     "metadata": {},
     "output_type": "execute_result"
    }
   ],
   "source": [
    "data.head()"
   ]
  },
  {
   "cell_type": "code",
   "execution_count": 16,
   "metadata": {},
   "outputs": [
    {
     "name": "stdout",
     "output_type": "stream",
     "text": [
      "70\n"
     ]
    }
   ],
   "source": [
    "nan_column = []  #找到null值不大于2000的值\n",
    "for i in data.columns:\n",
    "    res = data[i].isnull().sum()\n",
    "    if res > 1000:\n",
    "        nan_column.append(i)\n",
    "print(len(nan_column))"
   ]
  }
 ],
 "metadata": {
  "kernelspec": {
   "display_name": "Python 3",
   "language": "python",
   "name": "python3"
  },
  "language_info": {
   "codemirror_mode": {
    "name": "ipython",
    "version": 3
   },
   "file_extension": ".py",
   "mimetype": "text/x-python",
   "name": "python",
   "nbconvert_exporter": "python",
   "pygments_lexer": "ipython3",
   "version": "3.7.4"
  }
 },
 "nbformat": 4,
 "nbformat_minor": 4
}
