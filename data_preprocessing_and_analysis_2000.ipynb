{
 "cells": [
  {
   "cell_type": "code",
   "execution_count": 1,
   "metadata": {},
   "outputs": [],
   "source": [
    "import pandas as pd\n",
    "import numpy as np"
   ]
  },
  {
   "cell_type": "code",
   "execution_count": 2,
   "metadata": {},
   "outputs": [
    {
     "name": "stderr",
     "output_type": "stream",
     "text": [
      "D:\\ProgramData\\Anaconda3\\lib\\site-packages\\IPython\\core\\interactiveshell.py:3063: DtypeWarning: Columns (49,50,65,73,74,84,85,86,87,88,89,97,98,103,106,107,108,109,110,195,196,201,208,209,210,211,212,213,214,215,216,219,220,221,222,223,224,225,228,229,230,231,232,233,234,235,236,237,238,239,240,241,242,243,244,245,246,247,248,249,250,251,254,255,256,257,258,259,260,261,262,263,264,265,266,267,268,269,271,272,273,274,275,276,277,278,279,280,281,282,283,307,308,309,322,323,324,325,326,327,329,330,331,332,333,334,337,338,339,340,341,342,343,344,345,346,347,348,349,350,351,352,353,354,355,356,357,358,359,360,361,362,363,364,365,366,367,368,369,370,371,372,471,472,473,474,475,476,477,478,479,480,481,482,483,523,524,525,541,542,543,544,550,552,554,557,558,564,568,582,583,585,586,587,588,592,593,594,601,602,615,619,626,635,671,672,673,678,682,683,684,689,696,706,708,712,713,714,715,716,717,718,723,725,726,730,732,734,735,736,737,738,740,756,757,758,761,766,782,784,785,786,806,807,819,821,823,825,826,827,833,837,841,846,856,857,858,869,870,875,876,878,884,893,894,897,898,899,900,901,905,910,911,913,917,925,927,928,933,935,936,982,984,987,991,997,998,999,1000,1001,1004,1005,1006,1011,1012,1021,1038,1042,1044,1047,1048,1049,1068,1069,1071,1072,1082,1109,1110,1112,1116,1133,1137,1173,1177,1188,1191,1193,1194,1195,1199,1200,1202,1217,1220,1222,1223,1224,1227,1228,1229,1230,1231,1232,1233,1234,1235,1236,1237,1238,1239,1240,1241,1242,1243,1246,1247,1248,1253,1255,1256,1257,1258,1260,1261,1262,1264,1265,1267,1272,1275,1277,1278,1279,1280,1281,1282,1283,1286,1292,1293,1297,1298,1300,1302,1303,1306,1307,1309,1314,1316,1320,1323,1325,1326,1327,1328,1331,1332,1335,1337,1338,1342,1343,1346,1349,1350,1353,1354,1357,1411,1414,1429,1430,1431,1434,1435,1447,1451,1453,1497,1498,1499,1500,1501,1502,1504,1505,1506,1507,1508,1509,1511,1512,1513,1514,1515,1516,1517,1518,1519,1522,1523,1524,1617,1618,1619,1673,1674,1679,1681,1683,1684,1695,1696,1701,1703,1704,1705,1706,1708,1710,1711,1713,1714,1715,1716,1717,1721,1723,1726,1740,1741,1742,1749,1751,1752,1758,1759,1760,1761,1762,1763,1764,1765,1766,1767,1768,1769,1770,1771,1772,1773,1774,1775,1776,1777,1778,1779,1780,1781,1782,1783,1787,1800,1827,1835,1836,1837,1838,1840,1841,1842,1844,1845,1999,2012,2050,2055,2066,2067,2068,2072,2073,2074,2075,2076,2081,2082,2090,2092,2093,2103,2104,2105,2287,2291,2294,2298,2305,2306,2307,2331,2347,2348,2349,2350,2351,2352,2354,2355,2357,2362,2364,2365,2366,2367,2368,2371,2372,2373,2374,2385,2386,2387,2388,2390,2391,2394,2401,2403,2405,2407,2412,2413,2414,2419,2424,2425,2439,2440,2443,2444,2446,2447,2448,2449,2450,2451,2452,2453,2454,2455,2456,2457,2458,2459,2460,2461,2462,2463,2464,2465,2466,2467,2468,2469,2471,2472,2474,2475,2477,2478,2481,2482,2484,2485,2486,2487,2488,2489,2490,2491,2492,2493,2494,2495,2496,2497,2498,2500,2501,2502,2505,2506,2507,2508,2509,2512,2513,2514,2515,2516,2517,2518,2519,2520,2521,2522,2523,2524,2526,2527,2528,2530,2531,2532,2533,2534,2536,2537,2538,2539,2540,2541,2542,2543,2546,2549,2550,2555,2556,2557,2559,2560,2561,2562,2563,2567,2573,2574,2575,2577,2580,2581,2582,2583,2584,2586,2587,2588,2589,2593,2594,2595,2596,2600,2601,2602,2605,2606,2607,2608,2609,2610,2612,2613,2618,2619,2620,2621,2622,2623,2625,2626,2627,2628,2629,2631,2633,2634,2635,2636,2684,2685,2686,2687,2692,2693,2702,2703,2704,2705,2706,2708,2709,2710,2711,2712,2714,2715,2716,2717,2718,2721,2723,2724,2725,2726,2727,2728,2729,2730,2731,2732,2734,2736,2740,2747,2748,2753,2754,2755,2756,2762,2764,2777,2778,2779,2780,2782,2783,2784,2785,2822,2824,2826,2830,2832,2839,2843,2844,2849,2850,2855,2858,2859,2861,2866,2868,2870,2871,2872,2883,2886,2888,2906,2907,2909,2922,2925,2926,2928,2931,2932,2933,2934,2935,2942,2950,2951,2956,2960,2963,2977,2982,2984,2986,2987,2992,2994,2996,2998,3000,3002,3004,3005,3008,3015,3022,3024,3025,3027,3028,3032,3033,3034,3036,3046,3047,3052,3053,3059,3060,3061,3062,3064,3065,3066,3067,3069,3071,3073,3077,3078,3079,3080,3081,3082,3083,3084,3085,3086,3087,3088,3089,3090,3091,3092,3093,3094,3095,3096,3097,3098,3099,3100,3101,3102,3115,3116,3117,3118,3119,3120,3121,3122,3125,3129,3130,3131,3132,3133,3134,3135,3143,3144,3147,3149,3151,3152,3153,3154,3155,3156,3158,3160,3161,3162,3163,3165,3168,3170,3172,3173,3174,3175,3176,3177,3178,3179,3180,3181,3182,3183,3184,3185,3186,3187,3192,3196,3198,3199,3200,3211,3212,3213,3214,3215,3216,3218,3220,3222,3224,3228,3229,3239,3242,3250,3251,3252,3253,3257,3258,3260,3262,3263,3264,3266,3267,3269,3273,3274,3275,3276,3277,3278,3279,3280,3281,3282,3288,3289,3290,3291,3292,3301,3303,3305,3306,3309,3310) have mixed types.Specify dtype option on import or set low_memory=False.\n",
      "  interactivity=interactivity, compiler=compiler, result=result)\n"
     ]
    },
    {
     "data": {
      "text/plain": [
       "(4290, 3316)"
      ]
     },
     "execution_count": 2,
     "metadata": {},
     "output_type": "execute_result"
    }
   ],
   "source": [
    "file_name = 'C:/Users/wangkc/Desktop/python/CLOUT/CLOUT/total.csv'  # 读入文件\n",
    "data = pd.read_csv(file_name)\n",
    "data.shape"
   ]
  },
  {
   "cell_type": "code",
   "execution_count": 3,
   "metadata": {},
   "outputs": [
    {
     "data": {
      "text/html": [
       "<div>\n",
       "<style scoped>\n",
       "    .dataframe tbody tr th:only-of-type {\n",
       "        vertical-align: middle;\n",
       "    }\n",
       "\n",
       "    .dataframe tbody tr th {\n",
       "        vertical-align: top;\n",
       "    }\n",
       "\n",
       "    .dataframe thead th {\n",
       "        text-align: right;\n",
       "    }\n",
       "</style>\n",
       "<table border=\"1\" class=\"dataframe\">\n",
       "  <thead>\n",
       "    <tr style=\"text-align: right;\">\n",
       "      <th></th>\n",
       "      <th>subject_id</th>\n",
       "      <th>subject_id.1</th>\n",
       "      <th>gender</th>\n",
       "      <th>dod</th>\n",
       "      <th>dob</th>\n",
       "      <th>expire_flag</th>\n",
       "      <th>hadm_id</th>\n",
       "      <th>marital_status</th>\n",
       "      <th>diagnosis</th>\n",
       "      <th>228307</th>\n",
       "      <th>...</th>\n",
       "      <th>51502</th>\n",
       "      <th>51112</th>\n",
       "      <th>51122</th>\n",
       "      <th>51225</th>\n",
       "      <th>50901</th>\n",
       "      <th>51406</th>\n",
       "      <th>51024</th>\n",
       "      <th>51380</th>\n",
       "      <th>51072</th>\n",
       "      <th>51073</th>\n",
       "    </tr>\n",
       "  </thead>\n",
       "  <tbody>\n",
       "    <tr>\n",
       "      <th>4285</th>\n",
       "      <td>71274</td>\n",
       "      <td>71274</td>\n",
       "      <td>F</td>\n",
       "      <td>2191-01-31 00:00:00</td>\n",
       "      <td>2155-08-10 00:00:00</td>\n",
       "      <td>1</td>\n",
       "      <td>130914</td>\n",
       "      <td>SINGLE</td>\n",
       "      <td>ENDOCARDITIS</td>\n",
       "      <td>NaN</td>\n",
       "      <td>...</td>\n",
       "      <td>NaN</td>\n",
       "      <td>NaN</td>\n",
       "      <td>NaN</td>\n",
       "      <td>NaN</td>\n",
       "      <td>NaN</td>\n",
       "      <td>NaN</td>\n",
       "      <td>NaN</td>\n",
       "      <td>NaN</td>\n",
       "      <td>NaN</td>\n",
       "      <td>NaN</td>\n",
       "    </tr>\n",
       "    <tr>\n",
       "      <th>4286</th>\n",
       "      <td>51301</td>\n",
       "      <td>51301</td>\n",
       "      <td>F</td>\n",
       "      <td>NaN</td>\n",
       "      <td>2054-07-07 00:00:00</td>\n",
       "      <td>0</td>\n",
       "      <td>193117</td>\n",
       "      <td>DIVORCED</td>\n",
       "      <td>CORONARY ARTERY DISEASE; CHEST PAIN\\LEFT HEART...</td>\n",
       "      <td>NaN</td>\n",
       "      <td>...</td>\n",
       "      <td>NaN</td>\n",
       "      <td>NaN</td>\n",
       "      <td>NaN</td>\n",
       "      <td>NaN</td>\n",
       "      <td>NaN</td>\n",
       "      <td>NaN</td>\n",
       "      <td>NaN</td>\n",
       "      <td>NaN</td>\n",
       "      <td>NaN</td>\n",
       "      <td>NaN</td>\n",
       "    </tr>\n",
       "    <tr>\n",
       "      <th>4287</th>\n",
       "      <td>28414</td>\n",
       "      <td>28414</td>\n",
       "      <td>F</td>\n",
       "      <td>2163-02-22 00:00:00</td>\n",
       "      <td>2077-02-21 00:00:00</td>\n",
       "      <td>1</td>\n",
       "      <td>184455</td>\n",
       "      <td>MARRIED</td>\n",
       "      <td>S/P MI</td>\n",
       "      <td>NaN</td>\n",
       "      <td>...</td>\n",
       "      <td>NaN</td>\n",
       "      <td>NaN</td>\n",
       "      <td>NaN</td>\n",
       "      <td>NaN</td>\n",
       "      <td>NaN</td>\n",
       "      <td>NaN</td>\n",
       "      <td>NaN</td>\n",
       "      <td>NaN</td>\n",
       "      <td>NaN</td>\n",
       "      <td>NaN</td>\n",
       "    </tr>\n",
       "    <tr>\n",
       "      <th>4288</th>\n",
       "      <td>86392</td>\n",
       "      <td>86392</td>\n",
       "      <td>F</td>\n",
       "      <td>2171-10-01 00:00:00</td>\n",
       "      <td>2104-11-07 00:00:00</td>\n",
       "      <td>1</td>\n",
       "      <td>193556</td>\n",
       "      <td>MARRIED</td>\n",
       "      <td>ACUTE MYOCARDIAL INFARCTION; CHF;SHORTNESS OF ...</td>\n",
       "      <td>NaN</td>\n",
       "      <td>...</td>\n",
       "      <td>NaN</td>\n",
       "      <td>NaN</td>\n",
       "      <td>NaN</td>\n",
       "      <td>NaN</td>\n",
       "      <td>NaN</td>\n",
       "      <td>NaN</td>\n",
       "      <td>NaN</td>\n",
       "      <td>NaN</td>\n",
       "      <td>NaN</td>\n",
       "      <td>NaN</td>\n",
       "    </tr>\n",
       "    <tr>\n",
       "      <th>4289</th>\n",
       "      <td>95503</td>\n",
       "      <td>95503</td>\n",
       "      <td>F</td>\n",
       "      <td>NaN</td>\n",
       "      <td>2020-08-02 00:00:00</td>\n",
       "      <td>0</td>\n",
       "      <td>121779</td>\n",
       "      <td>WIDOWED</td>\n",
       "      <td>RESPIRATORY DISTRESS</td>\n",
       "      <td>NaN</td>\n",
       "      <td>...</td>\n",
       "      <td>NaN</td>\n",
       "      <td>NaN</td>\n",
       "      <td>NaN</td>\n",
       "      <td>NaN</td>\n",
       "      <td>NaN</td>\n",
       "      <td>NaN</td>\n",
       "      <td>NaN</td>\n",
       "      <td>NaN</td>\n",
       "      <td>NaN</td>\n",
       "      <td>NaN</td>\n",
       "    </tr>\n",
       "  </tbody>\n",
       "</table>\n",
       "<p>5 rows × 3316 columns</p>\n",
       "</div>"
      ],
      "text/plain": [
       "      subject_id  subject_id.1 gender                  dod  \\\n",
       "4285       71274         71274      F  2191-01-31 00:00:00   \n",
       "4286       51301         51301      F                  NaN   \n",
       "4287       28414         28414      F  2163-02-22 00:00:00   \n",
       "4288       86392         86392      F  2171-10-01 00:00:00   \n",
       "4289       95503         95503      F                  NaN   \n",
       "\n",
       "                      dob  expire_flag  hadm_id marital_status  \\\n",
       "4285  2155-08-10 00:00:00            1   130914         SINGLE   \n",
       "4286  2054-07-07 00:00:00            0   193117       DIVORCED   \n",
       "4287  2077-02-21 00:00:00            1   184455        MARRIED   \n",
       "4288  2104-11-07 00:00:00            1   193556        MARRIED   \n",
       "4289  2020-08-02 00:00:00            0   121779        WIDOWED   \n",
       "\n",
       "                                              diagnosis 228307  ... 51502  \\\n",
       "4285                                       ENDOCARDITIS    NaN  ...   NaN   \n",
       "4286  CORONARY ARTERY DISEASE; CHEST PAIN\\LEFT HEART...    NaN  ...   NaN   \n",
       "4287                                             S/P MI    NaN  ...   NaN   \n",
       "4288  ACUTE MYOCARDIAL INFARCTION; CHF;SHORTNESS OF ...    NaN  ...   NaN   \n",
       "4289                               RESPIRATORY DISTRESS    NaN  ...   NaN   \n",
       "\n",
       "     51112 51122 51225 50901 51406 51024 51380 51072 51073  \n",
       "4285   NaN   NaN   NaN   NaN   NaN   NaN   NaN   NaN   NaN  \n",
       "4286   NaN   NaN   NaN   NaN   NaN   NaN   NaN   NaN   NaN  \n",
       "4287   NaN   NaN   NaN   NaN   NaN   NaN   NaN   NaN   NaN  \n",
       "4288   NaN   NaN   NaN   NaN   NaN   NaN   NaN   NaN   NaN  \n",
       "4289   NaN   NaN   NaN   NaN   NaN   NaN   NaN   NaN   NaN  \n",
       "\n",
       "[5 rows x 3316 columns]"
      ]
     },
     "execution_count": 3,
     "metadata": {},
     "output_type": "execute_result"
    }
   ],
   "source": [
    "data.tail(5)"
   ]
  },
  {
   "cell_type": "code",
   "execution_count": 4,
   "metadata": {},
   "outputs": [
    {
     "data": {
      "text/html": [
       "<div>\n",
       "<style scoped>\n",
       "    .dataframe tbody tr th:only-of-type {\n",
       "        vertical-align: middle;\n",
       "    }\n",
       "\n",
       "    .dataframe tbody tr th {\n",
       "        vertical-align: top;\n",
       "    }\n",
       "\n",
       "    .dataframe thead th {\n",
       "        text-align: right;\n",
       "    }\n",
       "</style>\n",
       "<table border=\"1\" class=\"dataframe\">\n",
       "  <thead>\n",
       "    <tr style=\"text-align: right;\">\n",
       "      <th></th>\n",
       "      <th>subject_id</th>\n",
       "      <th>subject_id.1</th>\n",
       "      <th>gender</th>\n",
       "      <th>dod</th>\n",
       "      <th>dob</th>\n",
       "      <th>expire_flag</th>\n",
       "      <th>hadm_id</th>\n",
       "      <th>marital_status</th>\n",
       "      <th>diagnosis</th>\n",
       "      <th>228307</th>\n",
       "      <th>...</th>\n",
       "      <th>51502</th>\n",
       "      <th>51112</th>\n",
       "      <th>51122</th>\n",
       "      <th>51225</th>\n",
       "      <th>50901</th>\n",
       "      <th>51406</th>\n",
       "      <th>51024</th>\n",
       "      <th>51380</th>\n",
       "      <th>51072</th>\n",
       "      <th>51073</th>\n",
       "    </tr>\n",
       "  </thead>\n",
       "  <tbody>\n",
       "    <tr>\n",
       "      <th>0</th>\n",
       "      <td>False</td>\n",
       "      <td>False</td>\n",
       "      <td>False</td>\n",
       "      <td>False</td>\n",
       "      <td>False</td>\n",
       "      <td>False</td>\n",
       "      <td>False</td>\n",
       "      <td>False</td>\n",
       "      <td>False</td>\n",
       "      <td>True</td>\n",
       "      <td>...</td>\n",
       "      <td>True</td>\n",
       "      <td>True</td>\n",
       "      <td>True</td>\n",
       "      <td>True</td>\n",
       "      <td>True</td>\n",
       "      <td>True</td>\n",
       "      <td>True</td>\n",
       "      <td>True</td>\n",
       "      <td>True</td>\n",
       "      <td>True</td>\n",
       "    </tr>\n",
       "    <tr>\n",
       "      <th>1</th>\n",
       "      <td>False</td>\n",
       "      <td>False</td>\n",
       "      <td>False</td>\n",
       "      <td>True</td>\n",
       "      <td>False</td>\n",
       "      <td>False</td>\n",
       "      <td>False</td>\n",
       "      <td>False</td>\n",
       "      <td>False</td>\n",
       "      <td>True</td>\n",
       "      <td>...</td>\n",
       "      <td>True</td>\n",
       "      <td>True</td>\n",
       "      <td>True</td>\n",
       "      <td>True</td>\n",
       "      <td>True</td>\n",
       "      <td>True</td>\n",
       "      <td>True</td>\n",
       "      <td>True</td>\n",
       "      <td>True</td>\n",
       "      <td>True</td>\n",
       "    </tr>\n",
       "    <tr>\n",
       "      <th>2</th>\n",
       "      <td>False</td>\n",
       "      <td>False</td>\n",
       "      <td>False</td>\n",
       "      <td>True</td>\n",
       "      <td>False</td>\n",
       "      <td>False</td>\n",
       "      <td>False</td>\n",
       "      <td>True</td>\n",
       "      <td>False</td>\n",
       "      <td>True</td>\n",
       "      <td>...</td>\n",
       "      <td>True</td>\n",
       "      <td>True</td>\n",
       "      <td>True</td>\n",
       "      <td>True</td>\n",
       "      <td>True</td>\n",
       "      <td>True</td>\n",
       "      <td>True</td>\n",
       "      <td>True</td>\n",
       "      <td>True</td>\n",
       "      <td>True</td>\n",
       "    </tr>\n",
       "    <tr>\n",
       "      <th>3</th>\n",
       "      <td>False</td>\n",
       "      <td>False</td>\n",
       "      <td>False</td>\n",
       "      <td>True</td>\n",
       "      <td>False</td>\n",
       "      <td>False</td>\n",
       "      <td>False</td>\n",
       "      <td>False</td>\n",
       "      <td>False</td>\n",
       "      <td>True</td>\n",
       "      <td>...</td>\n",
       "      <td>True</td>\n",
       "      <td>True</td>\n",
       "      <td>True</td>\n",
       "      <td>True</td>\n",
       "      <td>True</td>\n",
       "      <td>True</td>\n",
       "      <td>True</td>\n",
       "      <td>True</td>\n",
       "      <td>True</td>\n",
       "      <td>True</td>\n",
       "    </tr>\n",
       "    <tr>\n",
       "      <th>4</th>\n",
       "      <td>False</td>\n",
       "      <td>False</td>\n",
       "      <td>False</td>\n",
       "      <td>True</td>\n",
       "      <td>False</td>\n",
       "      <td>False</td>\n",
       "      <td>False</td>\n",
       "      <td>False</td>\n",
       "      <td>False</td>\n",
       "      <td>True</td>\n",
       "      <td>...</td>\n",
       "      <td>True</td>\n",
       "      <td>True</td>\n",
       "      <td>True</td>\n",
       "      <td>True</td>\n",
       "      <td>True</td>\n",
       "      <td>True</td>\n",
       "      <td>True</td>\n",
       "      <td>True</td>\n",
       "      <td>True</td>\n",
       "      <td>True</td>\n",
       "    </tr>\n",
       "    <tr>\n",
       "      <th>...</th>\n",
       "      <td>...</td>\n",
       "      <td>...</td>\n",
       "      <td>...</td>\n",
       "      <td>...</td>\n",
       "      <td>...</td>\n",
       "      <td>...</td>\n",
       "      <td>...</td>\n",
       "      <td>...</td>\n",
       "      <td>...</td>\n",
       "      <td>...</td>\n",
       "      <td>...</td>\n",
       "      <td>...</td>\n",
       "      <td>...</td>\n",
       "      <td>...</td>\n",
       "      <td>...</td>\n",
       "      <td>...</td>\n",
       "      <td>...</td>\n",
       "      <td>...</td>\n",
       "      <td>...</td>\n",
       "      <td>...</td>\n",
       "      <td>...</td>\n",
       "    </tr>\n",
       "    <tr>\n",
       "      <th>4285</th>\n",
       "      <td>False</td>\n",
       "      <td>False</td>\n",
       "      <td>False</td>\n",
       "      <td>False</td>\n",
       "      <td>False</td>\n",
       "      <td>False</td>\n",
       "      <td>False</td>\n",
       "      <td>False</td>\n",
       "      <td>False</td>\n",
       "      <td>True</td>\n",
       "      <td>...</td>\n",
       "      <td>True</td>\n",
       "      <td>True</td>\n",
       "      <td>True</td>\n",
       "      <td>True</td>\n",
       "      <td>True</td>\n",
       "      <td>True</td>\n",
       "      <td>True</td>\n",
       "      <td>True</td>\n",
       "      <td>True</td>\n",
       "      <td>True</td>\n",
       "    </tr>\n",
       "    <tr>\n",
       "      <th>4286</th>\n",
       "      <td>False</td>\n",
       "      <td>False</td>\n",
       "      <td>False</td>\n",
       "      <td>True</td>\n",
       "      <td>False</td>\n",
       "      <td>False</td>\n",
       "      <td>False</td>\n",
       "      <td>False</td>\n",
       "      <td>False</td>\n",
       "      <td>True</td>\n",
       "      <td>...</td>\n",
       "      <td>True</td>\n",
       "      <td>True</td>\n",
       "      <td>True</td>\n",
       "      <td>True</td>\n",
       "      <td>True</td>\n",
       "      <td>True</td>\n",
       "      <td>True</td>\n",
       "      <td>True</td>\n",
       "      <td>True</td>\n",
       "      <td>True</td>\n",
       "    </tr>\n",
       "    <tr>\n",
       "      <th>4287</th>\n",
       "      <td>False</td>\n",
       "      <td>False</td>\n",
       "      <td>False</td>\n",
       "      <td>False</td>\n",
       "      <td>False</td>\n",
       "      <td>False</td>\n",
       "      <td>False</td>\n",
       "      <td>False</td>\n",
       "      <td>False</td>\n",
       "      <td>True</td>\n",
       "      <td>...</td>\n",
       "      <td>True</td>\n",
       "      <td>True</td>\n",
       "      <td>True</td>\n",
       "      <td>True</td>\n",
       "      <td>True</td>\n",
       "      <td>True</td>\n",
       "      <td>True</td>\n",
       "      <td>True</td>\n",
       "      <td>True</td>\n",
       "      <td>True</td>\n",
       "    </tr>\n",
       "    <tr>\n",
       "      <th>4288</th>\n",
       "      <td>False</td>\n",
       "      <td>False</td>\n",
       "      <td>False</td>\n",
       "      <td>False</td>\n",
       "      <td>False</td>\n",
       "      <td>False</td>\n",
       "      <td>False</td>\n",
       "      <td>False</td>\n",
       "      <td>False</td>\n",
       "      <td>True</td>\n",
       "      <td>...</td>\n",
       "      <td>True</td>\n",
       "      <td>True</td>\n",
       "      <td>True</td>\n",
       "      <td>True</td>\n",
       "      <td>True</td>\n",
       "      <td>True</td>\n",
       "      <td>True</td>\n",
       "      <td>True</td>\n",
       "      <td>True</td>\n",
       "      <td>True</td>\n",
       "    </tr>\n",
       "    <tr>\n",
       "      <th>4289</th>\n",
       "      <td>False</td>\n",
       "      <td>False</td>\n",
       "      <td>False</td>\n",
       "      <td>True</td>\n",
       "      <td>False</td>\n",
       "      <td>False</td>\n",
       "      <td>False</td>\n",
       "      <td>False</td>\n",
       "      <td>False</td>\n",
       "      <td>True</td>\n",
       "      <td>...</td>\n",
       "      <td>True</td>\n",
       "      <td>True</td>\n",
       "      <td>True</td>\n",
       "      <td>True</td>\n",
       "      <td>True</td>\n",
       "      <td>True</td>\n",
       "      <td>True</td>\n",
       "      <td>True</td>\n",
       "      <td>True</td>\n",
       "      <td>True</td>\n",
       "    </tr>\n",
       "  </tbody>\n",
       "</table>\n",
       "<p>4290 rows × 3316 columns</p>\n",
       "</div>"
      ],
      "text/plain": [
       "      subject_id  subject_id.1  gender    dod    dob  expire_flag  hadm_id  \\\n",
       "0          False         False   False  False  False        False    False   \n",
       "1          False         False   False   True  False        False    False   \n",
       "2          False         False   False   True  False        False    False   \n",
       "3          False         False   False   True  False        False    False   \n",
       "4          False         False   False   True  False        False    False   \n",
       "...          ...           ...     ...    ...    ...          ...      ...   \n",
       "4285       False         False   False  False  False        False    False   \n",
       "4286       False         False   False   True  False        False    False   \n",
       "4287       False         False   False  False  False        False    False   \n",
       "4288       False         False   False  False  False        False    False   \n",
       "4289       False         False   False   True  False        False    False   \n",
       "\n",
       "      marital_status  diagnosis  228307  ...  51502  51112  51122  51225  \\\n",
       "0              False      False    True  ...   True   True   True   True   \n",
       "1              False      False    True  ...   True   True   True   True   \n",
       "2               True      False    True  ...   True   True   True   True   \n",
       "3              False      False    True  ...   True   True   True   True   \n",
       "4              False      False    True  ...   True   True   True   True   \n",
       "...              ...        ...     ...  ...    ...    ...    ...    ...   \n",
       "4285           False      False    True  ...   True   True   True   True   \n",
       "4286           False      False    True  ...   True   True   True   True   \n",
       "4287           False      False    True  ...   True   True   True   True   \n",
       "4288           False      False    True  ...   True   True   True   True   \n",
       "4289           False      False    True  ...   True   True   True   True   \n",
       "\n",
       "      50901  51406  51024  51380  51072  51073  \n",
       "0      True   True   True   True   True   True  \n",
       "1      True   True   True   True   True   True  \n",
       "2      True   True   True   True   True   True  \n",
       "3      True   True   True   True   True   True  \n",
       "4      True   True   True   True   True   True  \n",
       "...     ...    ...    ...    ...    ...    ...  \n",
       "4285   True   True   True   True   True   True  \n",
       "4286   True   True   True   True   True   True  \n",
       "4287   True   True   True   True   True   True  \n",
       "4288   True   True   True   True   True   True  \n",
       "4289   True   True   True   True   True   True  \n",
       "\n",
       "[4290 rows x 3316 columns]"
      ]
     },
     "execution_count": 4,
     "metadata": {},
     "output_type": "execute_result"
    }
   ],
   "source": [
    "data.isnull()"
   ]
  },
  {
   "cell_type": "code",
   "execution_count": 5,
   "metadata": {},
   "outputs": [
    {
     "data": {
      "text/plain": [
       "Index(['subject_id', 'subject_id.1', 'gender', 'dod', 'dob', 'expire_flag',\n",
       "       'hadm_id', 'marital_status', 'diagnosis', '228307',\n",
       "       ...\n",
       "       '51502', '51112', '51122', '51225', '50901', '51406', '51024', '51380',\n",
       "       '51072', '51073'],\n",
       "      dtype='object', length=3316)"
      ]
     },
     "execution_count": 5,
     "metadata": {},
     "output_type": "execute_result"
    }
   ],
   "source": [
    "data.columns"
   ]
  },
  {
   "cell_type": "code",
   "execution_count": 6,
   "metadata": {},
   "outputs": [
    {
     "name": "stdout",
     "output_type": "stream",
     "text": [
      "3144\n"
     ]
    }
   ],
   "source": [
    "nan_column = []  #找到null值不大于2000的值\n",
    "for i in data.columns:\n",
    "    res = data[i].isnull().sum()\n",
    "    if res > 2000:\n",
    "        nan_column.append(i)\n",
    "print(len(nan_column))"
   ]
  },
  {
   "cell_type": "code",
   "execution_count": 7,
   "metadata": {},
   "outputs": [
    {
     "data": {
      "text/plain": [
       "(4290, 172)"
      ]
     },
     "execution_count": 7,
     "metadata": {},
     "output_type": "execute_result"
    }
   ],
   "source": [
    "data_2000 = data.drop(labels = nan_column,axis = 1)\n",
    "data_2000.shape"
   ]
  },
  {
   "cell_type": "code",
   "execution_count": 8,
   "metadata": {},
   "outputs": [],
   "source": [
    "file_name_2000 = 'C:/Users/wangkc/Desktop/python/CLOUT/CLOUT/total_2000.csv'  #将res>2000的数据写入文件\n",
    "data_2000.to_csv(file_name_2000)"
   ]
  },
  {
   "cell_type": "code",
   "execution_count": 9,
   "metadata": {},
   "outputs": [
    {
     "data": {
      "text/plain": [
       "subject_id                    28920\n",
       "subject_id.1                  28920\n",
       "gender                            F\n",
       "dob             2035-07-09 00:00:00\n",
       "expire_flag                       1\n",
       "                       ...         \n",
       "50808                           NaN\n",
       "50812                           NaN\n",
       "50813                           NaN\n",
       "50809                           NaN\n",
       "50822                           NaN\n",
       "Name: 0, Length: 172, dtype: object"
      ]
     },
     "execution_count": 9,
     "metadata": {},
     "output_type": "execute_result"
    }
   ],
   "source": [
    "data_2000.iloc[0, :]"
   ]
  },
  {
   "cell_type": "code",
   "execution_count": 10,
   "metadata": {},
   "outputs": [
    {
     "name": "stdout",
     "output_type": "stream",
     "text": [
      "1339\n"
     ]
    }
   ],
   "source": [
    "nan_row = []\n",
    "for i in data_2000.index:\n",
    "    row = data_2000.iloc[i,:].isnull().sum()\n",
    "    if row > 60:\n",
    "        nan_row.append(i)\n",
    "print(len(nan_row))"
   ]
  },
  {
   "cell_type": "code",
   "execution_count": 72,
   "metadata": {},
   "outputs": [
    {
     "data": {
      "text/plain": [
       "(2951, 172)"
      ]
     },
     "execution_count": 72,
     "metadata": {},
     "output_type": "execute_result"
    }
   ],
   "source": [
    "data_2000_60 = data_2000.drop(labels=nan_row)\n",
    "data_2000_60.shape"
   ]
  },
  {
   "cell_type": "code",
   "execution_count": 73,
   "metadata": {},
   "outputs": [
    {
     "data": {
      "text/plain": [
       "Index(['subject_id', 'subject_id.1', 'gender', 'dob', 'expire_flag', 'hadm_id',\n",
       "       'marital_status', 'diagnosis', '550', '593',\n",
       "       ...\n",
       "       '51146', '51200', '51244', '51254', '51256', '50808', '50812', '50813',\n",
       "       '50809', '50822'],\n",
       "      dtype='object', length=172)"
      ]
     },
     "execution_count": 73,
     "metadata": {},
     "output_type": "execute_result"
    }
   ],
   "source": [
    "data_2000_60.columns"
   ]
  },
  {
   "cell_type": "code",
   "execution_count": 74,
   "metadata": {},
   "outputs": [
    {
     "data": {
      "text/plain": [
       "(2951, 95)"
      ]
     },
     "execution_count": 74,
     "metadata": {},
     "output_type": "execute_result"
    }
   ],
   "source": [
    "data_2000_60 = data_2000_60.drop(labels=['subject_id.1', 'dob', 'hadm_id', 'subject_id', 'diagnosis','723','704','674','663','549','8456','1046','1125','550'\n",
    "                                        ,'618','593','599','637','621','582','51493','51516','926','707','742','811','919','925','27','31','32','80','88','86','54','82','83','84','85','210'\n",
    "                                        ,'324','325','294','297','128','154','184','917','8400','8401','51506','187','156','8381','8392','454','479','425','428','467','478','525','547',\n",
    "                                        '50800','51463','51464','51466','51476','51478','51484','51486','51487','51492','51508','51514','51519','50812'], axis=1)\n",
    "data_2000_60.shape"
   ]
  },
  {
   "cell_type": "code",
   "execution_count": 75,
   "metadata": {},
   "outputs": [],
   "source": [
    "data_2000_60.to_csv('C:/Users/wangkc/Desktop/python/CLOUT/CLOUT/total_2000_60.csv')"
   ]
  },
  {
   "cell_type": "code",
   "execution_count": 76,
   "metadata": {},
   "outputs": [
    {
     "data": {
      "text/plain": [
       "Index(['Regular', 'Tachypneic', 'Irregular', 'Other/Remarks', 'Discoordinate',\n",
       "       'Cheyne-Stokes', 'Apneic'],\n",
       "      dtype='object')"
      ]
     },
     "execution_count": 76,
     "metadata": {},
     "output_type": "execute_result"
    }
   ],
   "source": [
    "data_2000_60['617'].value_counts().index"
   ]
  },
  {
   "cell_type": "code",
   "execution_count": 95,
   "metadata": {},
   "outputs": [
    {
     "name": "stdout",
     "output_type": "stream",
     "text": [
      "gender {'M': 0, 'F': 1}\n",
      "marital_status {'MARRIED': 0, 'WIDOWED': 1, 'SINGLE': 2, 'DIVORCED': 3, 'UNKNOWN (DEFAULT)': 4, 'SEPARATED': 5}\n",
      "617 {'Regular': 0, 'Tachypneic': 1, 'Irregular': 2, 'Other/Remarks': 3, 'Discoordinate': 4, 'Cheyne-Stokes': 5, 'Apneic': 6}\n",
      "644 {'Intact': 0, 'Impaired': 1, 'Other/Remarks': 2}\n",
      "212 {'Normal Sinus': 0, 'Sinus Tachy': 1, 'Atrial Fib': 2, 'Sinus Brady': 3, 'A Paced': 4, '1st Deg AV Block': 5, 'V Paced': 6, 'AV Paced': 7, 'Atrial Flutter': 8, 'Supravent Tachy': 9, 'Junctional': 10, '2nd AVB/Mobitz I': 11, 'Comp Heart Block': 12, 'Vent. Tachy': 13, 'Asystole': 14, 'MultFocalAtrTach': 15, '2nd AVB Mobitz 2': 16, 'Other/Remarks': 17, 'Idioventricular': 18, 'Sinus Arrhythmia': 19, 'Wand.Atrial Pace': 20, 'Ventricular Fib': 21}\n",
      "159 {'None': 0, 'Occasional': 1, 'Rare': 2, 'Frequent': 3, 'Runs Vtach': 4}\n",
      "161 {'None': 0, \"PVC's\": 1, \"PAC's\": 2, \"PNC's\": 3, 'Atrial Bigeminy': 4, 'Nod/Junc Escape': 5, 'Vent. Bigeminy': 6, 'Fusion Beats': 7}\n",
      "432 {'Alert': 0, 'Arouse to Voice': 1, 'Sedated': 2, 'Sleeping': 3, 'Lethargic': 4, 'Arouse to Stimul': 5, 'Unresponsive': 6, 'Dozing Intermit': 7, 'Confused': 8, 'Paralytic Med': 9, 'Arouse to Pain': 10, 'Other/Remarks': 11}\n",
      "706 {'Yellow': 0, 'Amber': 1, 'Light Yellow': 2, 'Pink': 3, 'Red': 4, 'Brown': 5, 'Other/Remarks': 6, 'Orange': 7, 'Icteric': 8, 'Green': 9}\n",
      "8480 {'Clear': 0, 'Sediment': 1, 'Cloudy': 2, 'Clots': 3, 'Sludge': 4, 'Other/Remarks': 5}\n",
      "1087 {'Pt Verbalized': 0, 'Non-verbal cues': 1, 'Grimace Scale': 2, 'Change in Vitals': 3, 'Other': 4}\n",
      "1337 {'Calm/Cooperative': 0, 'Sedated': 1, 'Unarousable': 2, 'Agitated': 3, 'Very Sedated': 4, 'Danger Agitation': 5, 'Very Agitated': 6}\n",
      "77 {'Calm': 0, 'Appropriate': 1, 'Sedated': 2, 'Sleeping': 3, 'Anxious': 4, 'Agitated': 5, 'Unresponsive': 6, 'Restless': 7, 'Confused': 8, 'Cooperative': 9, 'Anesthetized': 10, 'Uncomfortable': 11, 'Apprehensive': 12, 'Talkative': 13, 'Withdrawn': 14, 'Angry': 15, 'Other/Remarks': 16, 'Depressed': 17, 'Combative': 18, 'Questioning': 19, 'Crying': 20, 'Irritable': 21, 'Hostile': 22, 'Apathy': 23, 'Uncooperative': 24, 'Labile': 25, 'Hallucinations': 26, 'Delirium': 27}\n"
     ]
    }
   ],
   "source": [
    "data_2000_60_digit = data_2000_60.copy()\n",
    "for i in ['gender', 'marital_status','617','644','212','159','161','432','706','8480','1087','1337','77']:  # 生成映射关系\n",
    "    res = data_2000_60[i].value_counts()\n",
    "    index = 0\n",
    "    rep_set = {}\n",
    "    for j in res.index:\n",
    "        rep_set[j] = index\n",
    "        index += 1\n",
    "    print(i,rep_set)\n",
    "    data_2000_60_digit[i].replace(rep_set, inplace=True) "
   ]
  },
  {
   "cell_type": "code",
   "execution_count": 96,
   "metadata": {},
   "outputs": [],
   "source": [
    "data_2000_60_digit = data_2000_60_digit.replace(['2gMag', 'Mg 2Gm','>150*'], 0)\n",
    "data_2000_60_digit = data_2000_60_digit.replace(['.','no data','20k','20kcl','20meq','ERROE','ERROR','INCOMPLETE',\"COLLEC TOR'S ID ON REQ\",\"INCOMPLETE COLLECTOR'S ID ON REQ\",'COMPUTER NETWORK FAILURE. TEST NOT RESULTED.'], np.nan)\n",
    "data_2000_60_digit = data_2000_60_digit.replace(['>500', 'GREATER THAN 500'], 500)\n",
    "data_2000_60_digit = data_2000_60_digit.replace(['GREATER THAN 999'], 999)                                              \n",
    "data_2000_60_digit = data_2000_60_digit.replace(['<5'], 5)\n",
    "data_2000_60_digit = data_2000_60_digit.replace(['NotDone', 'NOT DONE', 'UNABLE', 'UNABLE TO REPORT',' ',''], 0)\n",
    "data_2000_60_digit = data_2000_60_digit.replace(['150 IS HIGHEST MEASURED PTT','>150'],150)\n",
    "data_2000_60_digit = data_2000_60_digit.replace(['>65.6'],65.6)\n",
    "data_2000_60_digit = data_2000_60_digit.replace(['<0.01','LESS THAN 0.01'],0.01)    \n",
    "data_2000_60_digit = data_2000_60_digit.replace(['>25','>25.0','GREATER THAN 25','GREATER THAN 25.0'],25)\n",
    "data_2000_60_digit = data_2000_60_digit.replace(['>=1.030','>1.030'],1.030)   \n",
    "data_2000_60_digit = data_2000_60_digit.replace(['<=1.005','<1.005'],1.005)\n",
    "data_2000_60_digit = data_2000_60_digit.replace(['>=1.035', '>1.035'],1.035)     \n",
    "data_2000_60_digit = data_2000_60_digit.replace(['>=1.050', '>1.050'],1.050) \n",
    "data_2000_60_digit = data_2000_60_digit.replace(['>=1.080', '>1.080'],1.080)                                                 \n",
    "data_2000_60_digit = data_2000_60_digit.replace(['UNABLE TO REPORT DUE TO SPECIMEN COLLECTION TIME', 'UNABLE TO REPORT DUE MCHC >38.0'], 0)"
   ]
  },
  {
   "cell_type": "code",
   "execution_count": 97,
   "metadata": {},
   "outputs": [
    {
     "name": "stdout",
     "output_type": "stream",
     "text": [
      "gender\n",
      "expire_flag\n",
      "marital_status\n",
      "617\n",
      "644\n",
      "646\n",
      "677\n",
      "678\n",
      "706\n",
      "8480\n",
      "8441\n",
      "77\n",
      "87\n",
      "861\n",
      "1087\n",
      "1127\n",
      "1337\n",
      "211\n",
      "814\n",
      "212\n",
      "781\n",
      "784\n",
      "786\n",
      "787\n",
      "788\n",
      "791\n",
      "821\n",
      "825\n",
      "762\n",
      "813\n",
      "828\n",
      "829\n",
      "837\n",
      "827\n",
      "833\n",
      "815\n",
      "824\n",
      "159\n",
      "161\n",
      "198\n",
      "432\n",
      "456\n",
      "470\n",
      "455\n",
      "50811\n",
      "50817\n",
      "50818\n",
      "50820\n",
      "50821\n",
      "50868\n",
      "50882\n",
      "50902\n",
      "50908\n",
      "50910\n",
      "50911\n",
      "50912\n",
      "50931\n",
      "50971\n",
      "50983\n",
      "51003\n",
      "51006\n",
      "51221\n",
      "51222\n",
      "51237\n",
      "51248\n",
      "51249\n",
      "51250\n",
      "51265\n",
      "51274\n",
      "51275\n",
      "51277\n",
      "51279\n",
      "51301\n",
      "50861\n",
      "50862\n",
      "50863\n",
      "50878\n",
      "50885\n",
      "50893\n",
      "50960\n",
      "50970\n",
      "50802\n",
      "50804\n",
      "50810\n",
      "51491\n",
      "51498\n",
      "51146\n",
      "51200\n",
      "51244\n",
      "51254\n",
      "51256\n",
      "50808\n",
      "50813\n",
      "50809\n",
      "50822\n"
     ]
    }
   ],
   "source": [
    "for col in data_2000_60_digit.columns:\n",
    "    print(col)\n",
    "    data_2000_60_digit[col] = data_2000_60_digit[col].astype('float')\n",
    "#     if str(data_2000_60_digit[col].dtype) == 'object':\n",
    "#         print(col)"
   ]
  },
  {
   "cell_type": "code",
   "execution_count": 98,
   "metadata": {},
   "outputs": [],
   "source": [
    "data_2000_60_digit.to_csv('C:/Users/wangkc/Desktop/python/CLOUT/CLOUT/total_2000_60_digit.csv')"
   ]
  },
  {
   "cell_type": "code",
   "execution_count": 99,
   "metadata": {},
   "outputs": [
    {
     "ename": "SyntaxError",
     "evalue": "invalid syntax (<ipython-input-99-9430d5440a00>, line 1)",
     "output_type": "error",
     "traceback": [
      "\u001b[1;36m  File \u001b[1;32m\"<ipython-input-99-9430d5440a00>\"\u001b[1;36m, line \u001b[1;32m1\u001b[0m\n\u001b[1;33m    gender {'M': 0, 'F': 1}\u001b[0m\n\u001b[1;37m           ^\u001b[0m\n\u001b[1;31mSyntaxError\u001b[0m\u001b[1;31m:\u001b[0m invalid syntax\n"
     ]
    }
   ],
   "source": [
    "gender {'M': 0, 'F': 1}\n",
    "marital_status {'MARRIED': 0, 'WIDOWED': 1, 'SINGLE': 2, 'DIVORCED': 3, 'UNKNOWN (DEFAULT)': 4, 'SEPARATED': 5}\n",
    "617 {'Regular': 0, 'Tachypneic': 1, 'Irregular': 2, 'Other/Remarks': 3, 'Discoordinate': 4, 'Cheyne-Stokes': 5, 'Apneic': 6}\n",
    "644 {'Intact': 0, 'Impaired': 1, 'Other/Remarks': 2}\n",
    "212 {'Normal Sinus': 0, 'Sinus Tachy': 1, 'Atrial Fib': 2, 'Sinus Brady': 3, 'A Paced': 4, '1st Deg AV Block': 5, 'V Paced': 6, 'AV Paced': 7, 'Atrial Flutter': 8, 'Supravent Tachy': 9, 'Junctional': 10, '2nd AVB/Mobitz I': 11, 'Comp Heart Block': 12, 'Vent. Tachy': 13, 'Asystole': 14, 'MultFocalAtrTach': 15, '2nd AVB Mobitz 2': 16, 'Other/Remarks': 17, 'Idioventricular': 18, 'Sinus Arrhythmia': 19, 'Wand.Atrial Pace': 20, 'Ventricular Fib': 21}\n",
    "159 {'None': 0, 'Occasional': 1, 'Rare': 2, 'Frequent': 3, 'Runs Vtach': 4}\n",
    "161 {'None': 0, \"PVC's\": 1, \"PAC's\": 2, \"PNC's\": 3, 'Atrial Bigeminy': 4, 'Nod/Junc Escape': 5, 'Vent. Bigeminy': 6, 'Fusion Beats': 7}\n",
    "432 {'Alert': 0, 'Arouse to Voice': 1, 'Sedated': 2, 'Sleeping': 3, 'Lethargic': 4, 'Arouse to Stimul': 5, 'Unresponsive': 6, 'Dozing Intermit': 7, 'Confused': 8, 'Paralytic Med': 9, 'Arouse to Pain': 10, 'Other/Remarks': 11}\n",
    "706 {'Yellow': 0, 'Amber': 1, 'Light Yellow': 2, 'Pink': 3, 'Red': 4, 'Brown': 5, 'Other/Remarks': 6, 'Orange': 7, 'Icteric': 8, 'Green': 9}\n",
    "8480 {'Clear': 0, 'Sediment': 1, 'Cloudy': 2, 'Clots': 3, 'Sludge': 4, 'Other/Remarks': 5}\n",
    "1087 {'Pt Verbalized': 0, 'Non-verbal cues': 1, 'Grimace Scale': 2, 'Change in Vitals': 3, 'Other': 4}\n",
    "1337 {'Calm/Cooperative': 0, 'Sedated': 1, 'Unarousable': 2, 'Agitated': 3, 'Very Sedated': 4, 'Danger Agitation': 5, 'Very Agitated': 6}\n",
    "77 {'Calm': 0, 'Appropriate': 1, 'Sedated': 2, 'Sleeping': 3, 'Anxious': 4, 'Agitated': 5, 'Unresponsive': 6, 'Restless': 7, 'Confused': 8, 'Cooperative': 9, 'Anesthetized': 10, 'Uncomfortable': 11, 'Apprehensive': 12, 'Talkative': 13, 'Withdrawn': 14, 'Angry': 15, 'Other/Remarks': 16, 'Depressed': 17, 'Combative': 18, 'Questioning': 19, 'Crying': 20, 'Irritable': 21, 'Hostile': 22, 'Apathy': 23, 'Uncooperative': 24, 'Labile': 25, 'Hallucinations': 26, 'Delirium': 27}"
   ]
  },
  {
   "cell_type": "code",
   "execution_count": 100,
   "metadata": {},
   "outputs": [],
   "source": [
    "data_2000_60_digit['marital_status'].fillna(4, inplace=True)\n",
    "data_2000_60_digit['gender'].fillna(0, inplace=True)\n",
    "data_2000_60_digit['expire_flag'].fillna(0, inplace=True)\n",
    "data_2000_60_digit['617'].fillna(0, inplace=True)\n",
    "data_2000_60_digit['644'].fillna(0, inplace=True)\n",
    "data_2000_60_digit['212'].fillna(0, inplace=True)\n",
    "data_2000_60_digit['159'].fillna(0, inplace=True)\n",
    "data_2000_60_digit['161'].fillna(0, inplace=True)\n",
    "data_2000_60_digit['432'].fillna(11, inplace=True)\n",
    "data_2000_60_digit['706'].fillna(0, inplace=True)\n",
    "data_2000_60_digit['8480'].fillna(0, inplace=True)\n",
    "data_2000_60_digit['1087'].fillna(0, inplace=True)\n",
    "data_2000_60_digit['1337'].fillna(0, inplace=True)\n",
    "data_2000_60_digit['77'].fillna(0, inplace=True)\n",
    "\n",
    "\n",
    "for i in data_2000_60_digit.columns:\n",
    "    data_2000_60_digit[i].fillna(round(data_2000_60_digit[i].mean(),2), inplace=True)"
   ]
  },
  {
   "cell_type": "code",
   "execution_count": 101,
   "metadata": {},
   "outputs": [],
   "source": [
    "data_2000_60_digit.to_csv('C:/Users/wangkc/Desktop/python/CLOUT/CLOUT/total_2000_60_digit_fill.csv', )"
   ]
  },
  {
   "cell_type": "code",
   "execution_count": 102,
   "metadata": {},
   "outputs": [
    {
     "data": {
      "text/plain": [
       "(2951, 95)"
      ]
     },
     "execution_count": 102,
     "metadata": {},
     "output_type": "execute_result"
    }
   ],
   "source": [
    "data_2000_60_digit.shape"
   ]
  },
  {
   "cell_type": "code",
   "execution_count": 103,
   "metadata": {},
   "outputs": [
    {
     "data": {
      "text/html": [
       "<div>\n",
       "<style scoped>\n",
       "    .dataframe tbody tr th:only-of-type {\n",
       "        vertical-align: middle;\n",
       "    }\n",
       "\n",
       "    .dataframe tbody tr th {\n",
       "        vertical-align: top;\n",
       "    }\n",
       "\n",
       "    .dataframe thead th {\n",
       "        text-align: right;\n",
       "    }\n",
       "</style>\n",
       "<table border=\"1\" class=\"dataframe\">\n",
       "  <thead>\n",
       "    <tr style=\"text-align: right;\">\n",
       "      <th></th>\n",
       "      <th>gender</th>\n",
       "      <th>expire_flag</th>\n",
       "      <th>marital_status</th>\n",
       "      <th>617</th>\n",
       "      <th>644</th>\n",
       "      <th>646</th>\n",
       "      <th>677</th>\n",
       "      <th>678</th>\n",
       "      <th>706</th>\n",
       "      <th>8480</th>\n",
       "      <th>...</th>\n",
       "      <th>51498</th>\n",
       "      <th>51146</th>\n",
       "      <th>51200</th>\n",
       "      <th>51244</th>\n",
       "      <th>51254</th>\n",
       "      <th>51256</th>\n",
       "      <th>50808</th>\n",
       "      <th>50813</th>\n",
       "      <th>50809</th>\n",
       "      <th>50822</th>\n",
       "    </tr>\n",
       "  </thead>\n",
       "  <tbody>\n",
       "    <tr>\n",
       "      <th>gender</th>\n",
       "      <td>1.000000</td>\n",
       "      <td>0.129447</td>\n",
       "      <td>0.145082</td>\n",
       "      <td>0.045125</td>\n",
       "      <td>0.011898</td>\n",
       "      <td>0.010718</td>\n",
       "      <td>-0.004246</td>\n",
       "      <td>0.018943</td>\n",
       "      <td>-0.048978</td>\n",
       "      <td>0.029265</td>\n",
       "      <td>...</td>\n",
       "      <td>0.006494</td>\n",
       "      <td>-0.065594</td>\n",
       "      <td>-0.080124</td>\n",
       "      <td>-0.019564</td>\n",
       "      <td>-0.077185</td>\n",
       "      <td>0.020344</td>\n",
       "      <td>0.015183</td>\n",
       "      <td>0.000762</td>\n",
       "      <td>0.041693</td>\n",
       "      <td>-0.023118</td>\n",
       "    </tr>\n",
       "    <tr>\n",
       "      <th>expire_flag</th>\n",
       "      <td>0.129447</td>\n",
       "      <td>1.000000</td>\n",
       "      <td>0.065260</td>\n",
       "      <td>0.111015</td>\n",
       "      <td>0.238878</td>\n",
       "      <td>-0.067332</td>\n",
       "      <td>-0.058440</td>\n",
       "      <td>-0.043466</td>\n",
       "      <td>0.062289</td>\n",
       "      <td>0.142891</td>\n",
       "      <td>...</td>\n",
       "      <td>0.015759</td>\n",
       "      <td>-0.098845</td>\n",
       "      <td>-0.053019</td>\n",
       "      <td>-0.179434</td>\n",
       "      <td>-0.001830</td>\n",
       "      <td>0.111088</td>\n",
       "      <td>-0.039264</td>\n",
       "      <td>0.084725</td>\n",
       "      <td>0.089906</td>\n",
       "      <td>0.056083</td>\n",
       "    </tr>\n",
       "    <tr>\n",
       "      <th>marital_status</th>\n",
       "      <td>0.145082</td>\n",
       "      <td>0.065260</td>\n",
       "      <td>1.000000</td>\n",
       "      <td>0.012172</td>\n",
       "      <td>0.047924</td>\n",
       "      <td>-0.005153</td>\n",
       "      <td>0.026098</td>\n",
       "      <td>0.005306</td>\n",
       "      <td>-0.006044</td>\n",
       "      <td>0.001611</td>\n",
       "      <td>...</td>\n",
       "      <td>-0.035980</td>\n",
       "      <td>0.001656</td>\n",
       "      <td>-0.032083</td>\n",
       "      <td>-0.016224</td>\n",
       "      <td>-0.035585</td>\n",
       "      <td>0.017763</td>\n",
       "      <td>-0.020946</td>\n",
       "      <td>0.029460</td>\n",
       "      <td>0.004759</td>\n",
       "      <td>-0.014611</td>\n",
       "    </tr>\n",
       "    <tr>\n",
       "      <th>617</th>\n",
       "      <td>0.045125</td>\n",
       "      <td>0.111015</td>\n",
       "      <td>0.012172</td>\n",
       "      <td>1.000000</td>\n",
       "      <td>0.051581</td>\n",
       "      <td>-0.122438</td>\n",
       "      <td>-0.034348</td>\n",
       "      <td>-0.065923</td>\n",
       "      <td>0.038642</td>\n",
       "      <td>0.068391</td>\n",
       "      <td>...</td>\n",
       "      <td>0.003356</td>\n",
       "      <td>-0.023989</td>\n",
       "      <td>-0.033966</td>\n",
       "      <td>-0.022782</td>\n",
       "      <td>-0.022195</td>\n",
       "      <td>0.033324</td>\n",
       "      <td>-0.023472</td>\n",
       "      <td>0.036851</td>\n",
       "      <td>0.019378</td>\n",
       "      <td>0.006334</td>\n",
       "    </tr>\n",
       "    <tr>\n",
       "      <th>644</th>\n",
       "      <td>0.011898</td>\n",
       "      <td>0.238878</td>\n",
       "      <td>0.047924</td>\n",
       "      <td>0.051581</td>\n",
       "      <td>1.000000</td>\n",
       "      <td>0.016591</td>\n",
       "      <td>-0.016270</td>\n",
       "      <td>-0.056220</td>\n",
       "      <td>0.059363</td>\n",
       "      <td>0.124376</td>\n",
       "      <td>...</td>\n",
       "      <td>-0.014145</td>\n",
       "      <td>-0.095650</td>\n",
       "      <td>-0.002496</td>\n",
       "      <td>-0.162256</td>\n",
       "      <td>0.058861</td>\n",
       "      <td>0.077917</td>\n",
       "      <td>-0.065540</td>\n",
       "      <td>0.007510</td>\n",
       "      <td>-0.010786</td>\n",
       "      <td>0.013732</td>\n",
       "    </tr>\n",
       "    <tr>\n",
       "      <th>...</th>\n",
       "      <td>...</td>\n",
       "      <td>...</td>\n",
       "      <td>...</td>\n",
       "      <td>...</td>\n",
       "      <td>...</td>\n",
       "      <td>...</td>\n",
       "      <td>...</td>\n",
       "      <td>...</td>\n",
       "      <td>...</td>\n",
       "      <td>...</td>\n",
       "      <td>...</td>\n",
       "      <td>...</td>\n",
       "      <td>...</td>\n",
       "      <td>...</td>\n",
       "      <td>...</td>\n",
       "      <td>...</td>\n",
       "      <td>...</td>\n",
       "      <td>...</td>\n",
       "      <td>...</td>\n",
       "      <td>...</td>\n",
       "      <td>...</td>\n",
       "    </tr>\n",
       "    <tr>\n",
       "      <th>51256</th>\n",
       "      <td>0.020344</td>\n",
       "      <td>0.111088</td>\n",
       "      <td>0.017763</td>\n",
       "      <td>0.033324</td>\n",
       "      <td>0.077917</td>\n",
       "      <td>0.024360</td>\n",
       "      <td>-0.002956</td>\n",
       "      <td>0.026165</td>\n",
       "      <td>-0.016262</td>\n",
       "      <td>0.033781</td>\n",
       "      <td>...</td>\n",
       "      <td>-0.005118</td>\n",
       "      <td>-0.320725</td>\n",
       "      <td>-0.387363</td>\n",
       "      <td>-0.841371</td>\n",
       "      <td>-0.424770</td>\n",
       "      <td>1.000000</td>\n",
       "      <td>-0.021887</td>\n",
       "      <td>-0.029589</td>\n",
       "      <td>0.023643</td>\n",
       "      <td>-0.037013</td>\n",
       "    </tr>\n",
       "    <tr>\n",
       "      <th>50808</th>\n",
       "      <td>0.015183</td>\n",
       "      <td>-0.039264</td>\n",
       "      <td>-0.020946</td>\n",
       "      <td>-0.023472</td>\n",
       "      <td>-0.065540</td>\n",
       "      <td>0.031346</td>\n",
       "      <td>0.004150</td>\n",
       "      <td>0.012265</td>\n",
       "      <td>-0.059970</td>\n",
       "      <td>-0.052370</td>\n",
       "      <td>...</td>\n",
       "      <td>-0.004537</td>\n",
       "      <td>0.028309</td>\n",
       "      <td>0.031673</td>\n",
       "      <td>0.045633</td>\n",
       "      <td>-0.016575</td>\n",
       "      <td>-0.021887</td>\n",
       "      <td>1.000000</td>\n",
       "      <td>-0.079862</td>\n",
       "      <td>-0.048540</td>\n",
       "      <td>0.090774</td>\n",
       "    </tr>\n",
       "    <tr>\n",
       "      <th>50813</th>\n",
       "      <td>0.000762</td>\n",
       "      <td>0.084725</td>\n",
       "      <td>0.029460</td>\n",
       "      <td>0.036851</td>\n",
       "      <td>0.007510</td>\n",
       "      <td>-0.115848</td>\n",
       "      <td>-0.081985</td>\n",
       "      <td>-0.034470</td>\n",
       "      <td>0.101801</td>\n",
       "      <td>0.059026</td>\n",
       "      <td>...</td>\n",
       "      <td>0.023305</td>\n",
       "      <td>-0.030226</td>\n",
       "      <td>-0.068512</td>\n",
       "      <td>0.010482</td>\n",
       "      <td>-0.048182</td>\n",
       "      <td>-0.029589</td>\n",
       "      <td>-0.079862</td>\n",
       "      <td>1.000000</td>\n",
       "      <td>0.195710</td>\n",
       "      <td>0.090957</td>\n",
       "    </tr>\n",
       "    <tr>\n",
       "      <th>50809</th>\n",
       "      <td>0.041693</td>\n",
       "      <td>0.089906</td>\n",
       "      <td>0.004759</td>\n",
       "      <td>0.019378</td>\n",
       "      <td>-0.010786</td>\n",
       "      <td>-0.076428</td>\n",
       "      <td>-0.001543</td>\n",
       "      <td>0.002757</td>\n",
       "      <td>0.055397</td>\n",
       "      <td>0.024556</td>\n",
       "      <td>...</td>\n",
       "      <td>0.000508</td>\n",
       "      <td>-0.028022</td>\n",
       "      <td>-0.055171</td>\n",
       "      <td>-0.033888</td>\n",
       "      <td>-0.025173</td>\n",
       "      <td>0.023643</td>\n",
       "      <td>-0.048540</td>\n",
       "      <td>0.195710</td>\n",
       "      <td>1.000000</td>\n",
       "      <td>0.060455</td>\n",
       "    </tr>\n",
       "    <tr>\n",
       "      <th>50822</th>\n",
       "      <td>-0.023118</td>\n",
       "      <td>0.056083</td>\n",
       "      <td>-0.014611</td>\n",
       "      <td>0.006334</td>\n",
       "      <td>0.013732</td>\n",
       "      <td>-0.037074</td>\n",
       "      <td>-0.065868</td>\n",
       "      <td>-0.034988</td>\n",
       "      <td>0.025681</td>\n",
       "      <td>0.047564</td>\n",
       "      <td>...</td>\n",
       "      <td>0.001316</td>\n",
       "      <td>-0.004923</td>\n",
       "      <td>0.022181</td>\n",
       "      <td>0.035334</td>\n",
       "      <td>-0.016268</td>\n",
       "      <td>-0.037013</td>\n",
       "      <td>0.090774</td>\n",
       "      <td>0.090957</td>\n",
       "      <td>0.060455</td>\n",
       "      <td>1.000000</td>\n",
       "    </tr>\n",
       "  </tbody>\n",
       "</table>\n",
       "<p>95 rows × 95 columns</p>\n",
       "</div>"
      ],
      "text/plain": [
       "                  gender  expire_flag  marital_status       617       644  \\\n",
       "gender          1.000000     0.129447        0.145082  0.045125  0.011898   \n",
       "expire_flag     0.129447     1.000000        0.065260  0.111015  0.238878   \n",
       "marital_status  0.145082     0.065260        1.000000  0.012172  0.047924   \n",
       "617             0.045125     0.111015        0.012172  1.000000  0.051581   \n",
       "644             0.011898     0.238878        0.047924  0.051581  1.000000   \n",
       "...                  ...          ...             ...       ...       ...   \n",
       "51256           0.020344     0.111088        0.017763  0.033324  0.077917   \n",
       "50808           0.015183    -0.039264       -0.020946 -0.023472 -0.065540   \n",
       "50813           0.000762     0.084725        0.029460  0.036851  0.007510   \n",
       "50809           0.041693     0.089906        0.004759  0.019378 -0.010786   \n",
       "50822          -0.023118     0.056083       -0.014611  0.006334  0.013732   \n",
       "\n",
       "                     646       677       678       706      8480  ...  \\\n",
       "gender          0.010718 -0.004246  0.018943 -0.048978  0.029265  ...   \n",
       "expire_flag    -0.067332 -0.058440 -0.043466  0.062289  0.142891  ...   \n",
       "marital_status -0.005153  0.026098  0.005306 -0.006044  0.001611  ...   \n",
       "617            -0.122438 -0.034348 -0.065923  0.038642  0.068391  ...   \n",
       "644             0.016591 -0.016270 -0.056220  0.059363  0.124376  ...   \n",
       "...                  ...       ...       ...       ...       ...  ...   \n",
       "51256           0.024360 -0.002956  0.026165 -0.016262  0.033781  ...   \n",
       "50808           0.031346  0.004150  0.012265 -0.059970 -0.052370  ...   \n",
       "50813          -0.115848 -0.081985 -0.034470  0.101801  0.059026  ...   \n",
       "50809          -0.076428 -0.001543  0.002757  0.055397  0.024556  ...   \n",
       "50822          -0.037074 -0.065868 -0.034988  0.025681  0.047564  ...   \n",
       "\n",
       "                   51498     51146     51200     51244     51254     51256  \\\n",
       "gender          0.006494 -0.065594 -0.080124 -0.019564 -0.077185  0.020344   \n",
       "expire_flag     0.015759 -0.098845 -0.053019 -0.179434 -0.001830  0.111088   \n",
       "marital_status -0.035980  0.001656 -0.032083 -0.016224 -0.035585  0.017763   \n",
       "617             0.003356 -0.023989 -0.033966 -0.022782 -0.022195  0.033324   \n",
       "644            -0.014145 -0.095650 -0.002496 -0.162256  0.058861  0.077917   \n",
       "...                  ...       ...       ...       ...       ...       ...   \n",
       "51256          -0.005118 -0.320725 -0.387363 -0.841371 -0.424770  1.000000   \n",
       "50808          -0.004537  0.028309  0.031673  0.045633 -0.016575 -0.021887   \n",
       "50813           0.023305 -0.030226 -0.068512  0.010482 -0.048182 -0.029589   \n",
       "50809           0.000508 -0.028022 -0.055171 -0.033888 -0.025173  0.023643   \n",
       "50822           0.001316 -0.004923  0.022181  0.035334 -0.016268 -0.037013   \n",
       "\n",
       "                   50808     50813     50809     50822  \n",
       "gender          0.015183  0.000762  0.041693 -0.023118  \n",
       "expire_flag    -0.039264  0.084725  0.089906  0.056083  \n",
       "marital_status -0.020946  0.029460  0.004759 -0.014611  \n",
       "617            -0.023472  0.036851  0.019378  0.006334  \n",
       "644            -0.065540  0.007510 -0.010786  0.013732  \n",
       "...                  ...       ...       ...       ...  \n",
       "51256          -0.021887 -0.029589  0.023643 -0.037013  \n",
       "50808           1.000000 -0.079862 -0.048540  0.090774  \n",
       "50813          -0.079862  1.000000  0.195710  0.090957  \n",
       "50809          -0.048540  0.195710  1.000000  0.060455  \n",
       "50822           0.090774  0.090957  0.060455  1.000000  \n",
       "\n",
       "[95 rows x 95 columns]"
      ]
     },
     "execution_count": 103,
     "metadata": {},
     "output_type": "execute_result"
    }
   ],
   "source": [
    "data_2000_60_digit.corr()"
   ]
  },
  {
   "cell_type": "code",
   "execution_count": 108,
   "metadata": {},
   "outputs": [],
   "source": [
    "import matplotlib.pyplot as plt\n",
    "import seaborn as sns"
   ]
  },
  {
   "cell_type": "code",
   "execution_count": null,
   "metadata": {},
   "outputs": [],
   "source": []
  },
  {
   "cell_type": "code",
   "execution_count": 112,
   "metadata": {},
   "outputs": [
    {
     "data": {
      "text/plain": [
       "<matplotlib.axes._subplots.AxesSubplot at 0x10dd3204a88>"
      ]
     },
     "execution_count": 112,
     "metadata": {},
     "output_type": "execute_result"
    },
    {
     "data": {
      "image/png": "[encoded data removed]",
      "text/plain": [
       "<Figure size 2160x1440 with 2 Axes>"
      ]
     },
     "metadata": {
      "needs_background": "light"
     },
     "output_type": "display_data"
    }
   ],
   "source": [
    "colormap = plt.cm.RdBu # 绘图库中的颜色查找表。比如A1是红色,A2是浅蓝色。 这样一种映射关系\n",
    "plt.figure(figsize=(30,20))#创建一个新的图表，参数是尺寸，单位为英寸。\n",
    "plt.title('Pearson Correlation of Features', y=1.05, size=15) #给图表一个标题~~ \n",
    "sns.heatmap(data_2000_60_digit.corr(),linewidths=0.1,vmax=1.0,square=True, cmap=colormap, linecolor='white', annot=False) #将皮尔森系数值画成图表形式。"
   ]
  },
  {
   "cell_type": "code",
   "execution_count": 120,
   "metadata": {},
   "outputs": [],
   "source": [
    "data_2000_60_digit.corr()['expire_flag'].to_csv('C:/Users/wangkc/Desktop/python/CLOUT/CLOUT/expire_flag_digit_score.csv')"
   ]
  },
  {
   "cell_type": "code",
   "execution_count": 121,
   "metadata": {},
   "outputs": [],
   "source": [
    "data_2000_60_digit.corr().to_csv('C:/Users/wangkc/Desktop/python/CLOUT/CLOUT/total_2000_60_digit_score.csv')"
   ]
  },
  {
   "cell_type": "code",
   "execution_count": 154,
   "metadata": {},
   "outputs": [
    {
     "data": {
      "text/plain": [
       "781       0.375710\n",
       "51006     0.359603\n",
       "51277     0.321986\n",
       "644       0.238878\n",
       "50912     0.233801\n",
       "50868     0.213981\n",
       "827       0.198563\n",
       "50970     0.153713\n",
       "51301     0.153474\n",
       "8480      0.142891\n",
       "432       0.142306\n",
       "212       0.140674\n",
       "51237     0.130644\n",
       "1087      0.130606\n",
       "gender    0.129447\n",
       "470       0.124357\n",
       "51274     0.121738\n",
       "50863     0.116171\n",
       "50931     0.114107\n",
       "51256     0.111088\n",
       "617       0.111015\n",
       "824       0.103291\n",
       "787      -0.100330\n",
       "786      -0.101994\n",
       "51491    -0.118477\n",
       "813      -0.143928\n",
       "833      -0.151473\n",
       "50882    -0.153958\n",
       "8441     -0.155427\n",
       "50893    -0.157147\n",
       "51221    -0.163988\n",
       "762      -0.171873\n",
       "51244    -0.179434\n",
       "51279    -0.182155\n",
       "814      -0.200934\n",
       "198      -0.201258\n",
       "51222    -0.233413\n",
       "51249    -0.262149\n",
       "50862    -0.269534\n",
       "87       -0.326268\n",
       "Name: expire_flag, dtype: float64"
      ]
     },
     "execution_count": 154,
     "metadata": {},
     "output_type": "execute_result"
    }
   ],
   "source": [
    "corr = data_2000_60_digit.corr()\n",
    "expire_flag = corr['expire_flag'].sort_values(ascending=False)\n",
    "expire_flag[((expire_flag > 0.1) | (expire_flag < -0.1)) & (expire_flag < 1)]"
   ]
  },
  {
   "cell_type": "code",
   "execution_count": 164,
   "metadata": {},
   "outputs": [],
   "source": [
    "corr_data = data_2000_60_digit[expire_flag[(expire_flag > 0.1) | (expire_flag < -0.1)].index]\n",
    "corr_data.to_csv('C:/Users/wangkc/Desktop/python/CLOUT/CLOUT/total_2000_60_corr_data.csv')"
   ]
  },
  {
   "cell_type": "code",
   "execution_count": 165,
   "metadata": {},
   "outputs": [],
   "source": [
    "from sklearn.linear_model import LogisticRegression\n",
    "from sklearn.model_selection import train_test_split\n",
    "from sklearn.preprocessing import StandardScaler"
   ]
  },
  {
   "cell_type": "code",
   "execution_count": 170,
   "metadata": {},
   "outputs": [],
   "source": [
    "X, y = np.array(corr_data.drop('expire_flag', axis=1)), np.array(corr_data['expire_flag'])"
   ]
  },
  {
   "cell_type": "code",
   "execution_count": 171,
   "metadata": {},
   "outputs": [
    {
     "data": {
      "text/plain": [
       "array([[20.  , 21.  , 14.5 , ..., 34.  ,  3.19, 16.  ],\n",
       "       [11.  , 12.  , 12.2 , ..., 33.7 ,  3.19, 18.  ],\n",
       "       [17.  , 14.  , 16.9 , ..., 32.9 ,  3.19, 15.  ],\n",
       "       ...,\n",
       "       [17.  , 18.  , 14.1 , ..., 34.6 ,  3.2 , 18.  ],\n",
       "       [21.  , 16.  , 13.2 , ..., 33.9 ,  3.19, 14.  ],\n",
       "       [31.  , 40.  , 15.  , ..., 33.  ,  3.7 , 16.  ]])"
      ]
     },
     "execution_count": 171,
     "metadata": {},
     "output_type": "execute_result"
    }
   ],
   "source": [
    "X"
   ]
  },
  {
   "cell_type": "code",
   "execution_count": 172,
   "metadata": {},
   "outputs": [
    {
     "data": {
      "text/plain": [
       "array([1., 0., 0., ..., 1., 0., 1.])"
      ]
     },
     "execution_count": 172,
     "metadata": {},
     "output_type": "execute_result"
    }
   ],
   "source": [
    "y"
   ]
  },
  {
   "cell_type": "code",
   "execution_count": 173,
   "metadata": {},
   "outputs": [
    {
     "data": {
      "text/plain": [
       "(2951, 40)"
      ]
     },
     "execution_count": 173,
     "metadata": {},
     "output_type": "execute_result"
    }
   ],
   "source": [
    "X.shape"
   ]
  },
  {
   "cell_type": "code",
   "execution_count": 174,
   "metadata": {},
   "outputs": [
    {
     "data": {
      "text/plain": [
       "(2951,)"
      ]
     },
     "execution_count": 174,
     "metadata": {},
     "output_type": "execute_result"
    }
   ],
   "source": [
    "y.shape"
   ]
  },
  {
   "cell_type": "code",
   "execution_count": 175,
   "metadata": {},
   "outputs": [],
   "source": [
    "X_train, X_test, y_train, y_test = train_test_split(X, y, random_state=666,test_size = 0.33 )"
   ]
  },
  {
   "cell_type": "code",
   "execution_count": 176,
   "metadata": {},
   "outputs": [
    {
     "data": {
      "text/plain": [
       "StandardScaler(copy=True, with_mean=True, with_std=True)"
      ]
     },
     "execution_count": 176,
     "metadata": {},
     "output_type": "execute_result"
    }
   ],
   "source": [
    "standard_scaler = StandardScaler()\n",
    "standard_scaler.fit(X_train)"
   ]
  },
  {
   "cell_type": "code",
   "execution_count": 177,
   "metadata": {},
   "outputs": [
    {
     "data": {
      "text/plain": [
       "array([2.82510875e+01, 2.87656500e+01, 1.45701568e+01, 2.40768842e-01,\n",
       "       1.44281234e+00, 1.41814466e+01, 3.63342438e+00, 3.55037936e+00,\n",
       "       1.11722610e+01, 1.76024279e-01, 1.34344967e+00, 9.81284775e-01,\n",
       "       1.35762772e+00, 4.18310572e-01, 3.82397572e-01, 5.02141123e+00,\n",
       "       1.43153566e+01, 9.46848761e+01, 1.32455579e+02, 7.77868589e+01,\n",
       "       7.53667172e-02, 1.46640668e+01, 2.41365099e+01, 8.33574104e+00,\n",
       "       5.78154780e+00, 3.24498996e+01, 3.64436521e+00, 2.50910875e+01,\n",
       "       5.65552858e+01, 8.48055134e+00, 3.29015175e+01, 8.02136014e+01,\n",
       "       1.42629843e+01, 3.69460293e+00, 1.10377390e+01, 1.29656651e+01,\n",
       "       1.11698533e+01, 3.39729894e+01, 3.18938796e+00, 1.50665655e+01])"
      ]
     },
     "execution_count": 177,
     "metadata": {},
     "output_type": "execute_result"
    }
   ],
   "source": [
    "standard_scaler.mean_"
   ]
  },
  {
   "cell_type": "code",
   "execution_count": 178,
   "metadata": {},
   "outputs": [],
   "source": [
    "X_train_standard = standard_scaler.transform(X_train)\n",
    "X_test_standard = standard_scaler.transform(X_test)"
   ]
  },
  {
   "cell_type": "code",
   "execution_count": 179,
   "metadata": {},
   "outputs": [
    {
     "data": {
      "text/plain": [
       "0.7761806981519507"
      ]
     },
     "execution_count": 179,
     "metadata": {},
     "output_type": "execute_result"
    }
   ],
   "source": [
    "lr = LogisticRegression(C=1000,random_state=666)\n",
    "lr.fit(X_train_standard,y_train)\n",
    "lr.score(X_test_standard,y_test) # 输出一个正确率"
   ]
  },
  {
   "cell_type": "code",
   "execution_count": 180,
   "metadata": {},
   "outputs": [],
   "source": [
    "from sklearn.linear_model import LinearRegression\n",
    "from sklearn.preprocessing import StandardScaler, PolynomialFeatures\n",
    "from sklearn.pipeline import Pipeline\n",
    "from sklearn.linear_model import LogisticRegression"
   ]
  },
  {
   "cell_type": "code",
   "execution_count": 181,
   "metadata": {},
   "outputs": [],
   "source": [
    "def PolynomialLogisticRegression(degree=2, C=1.0):\n",
    "    return Pipeline([\n",
    "        ('poly', PolynomialFeatures(degree=degree)),\n",
    "        ('std', StandardScaler()),\n",
    "        ('log_reg', LogisticRegression(C=C))\n",
    "    ])"
   ]
  },
  {
   "cell_type": "code",
   "execution_count": 186,
   "metadata": {},
   "outputs": [
    {
     "name": "stderr",
     "output_type": "stream",
     "text": [
      "D:\\ProgramData\\Anaconda3\\lib\\site-packages\\sklearn\\linear_model\\_logistic.py:940: ConvergenceWarning: lbfgs failed to converge (status=1):\n",
      "STOP: TOTAL NO. of ITERATIONS REACHED LIMIT.\n",
      "\n",
      "Increase the number of iterations (max_iter) or scale the data as shown in:\n",
      "    https://scikit-learn.org/stable/modules/preprocessing.html\n",
      "Please also refer to the documentation for alternative solver options:\n",
      "    https://scikit-learn.org/stable/modules/linear_model.html#logistic-regression\n",
      "  extra_warning_msg=_LOGISTIC_SOLVER_CONVERGENCE_MSG)\n",
      "D:\\ProgramData\\Anaconda3\\lib\\site-packages\\sklearn\\linear_model\\_logistic.py:940: ConvergenceWarning: lbfgs failed to converge (status=1):\n",
      "STOP: TOTAL NO. of ITERATIONS REACHED LIMIT.\n",
      "\n",
      "Increase the number of iterations (max_iter) or scale the data as shown in:\n",
      "    https://scikit-learn.org/stable/modules/preprocessing.html\n",
      "Please also refer to the documentation for alternative solver options:\n",
      "    https://scikit-learn.org/stable/modules/linear_model.html#logistic-regression\n",
      "  extra_warning_msg=_LOGISTIC_SOLVER_CONVERGENCE_MSG)\n",
      "D:\\ProgramData\\Anaconda3\\lib\\site-packages\\sklearn\\linear_model\\_logistic.py:940: ConvergenceWarning: lbfgs failed to converge (status=1):\n",
      "STOP: TOTAL NO. of ITERATIONS REACHED LIMIT.\n",
      "\n",
      "Increase the number of iterations (max_iter) or scale the data as shown in:\n",
      "    https://scikit-learn.org/stable/modules/preprocessing.html\n",
      "Please also refer to the documentation for alternative solver options:\n",
      "    https://scikit-learn.org/stable/modules/linear_model.html#logistic-regression\n",
      "  extra_warning_msg=_LOGISTIC_SOLVER_CONVERGENCE_MSG)\n",
      "D:\\ProgramData\\Anaconda3\\lib\\site-packages\\sklearn\\linear_model\\_logistic.py:940: ConvergenceWarning: lbfgs failed to converge (status=1):\n",
      "STOP: TOTAL NO. of ITERATIONS REACHED LIMIT.\n",
      "\n",
      "Increase the number of iterations (max_iter) or scale the data as shown in:\n",
      "    https://scikit-learn.org/stable/modules/preprocessing.html\n",
      "Please also refer to the documentation for alternative solver options:\n",
      "    https://scikit-learn.org/stable/modules/linear_model.html#logistic-regression\n",
      "  extra_warning_msg=_LOGISTIC_SOLVER_CONVERGENCE_MSG)\n",
      "D:\\ProgramData\\Anaconda3\\lib\\site-packages\\sklearn\\linear_model\\_logistic.py:940: ConvergenceWarning: lbfgs failed to converge (status=1):\n",
      "STOP: TOTAL NO. of ITERATIONS REACHED LIMIT.\n",
      "\n",
      "Increase the number of iterations (max_iter) or scale the data as shown in:\n",
      "    https://scikit-learn.org/stable/modules/preprocessing.html\n",
      "Please also refer to the documentation for alternative solver options:\n",
      "    https://scikit-learn.org/stable/modules/linear_model.html#logistic-regression\n",
      "  extra_warning_msg=_LOGISTIC_SOLVER_CONVERGENCE_MSG)\n",
      "D:\\ProgramData\\Anaconda3\\lib\\site-packages\\sklearn\\linear_model\\_logistic.py:940: ConvergenceWarning: lbfgs failed to converge (status=1):\n",
      "STOP: TOTAL NO. of ITERATIONS REACHED LIMIT.\n",
      "\n",
      "Increase the number of iterations (max_iter) or scale the data as shown in:\n",
      "    https://scikit-learn.org/stable/modules/preprocessing.html\n",
      "Please also refer to the documentation for alternative solver options:\n",
      "    https://scikit-learn.org/stable/modules/linear_model.html#logistic-regression\n",
      "  extra_warning_msg=_LOGISTIC_SOLVER_CONVERGENCE_MSG)\n",
      "D:\\ProgramData\\Anaconda3\\lib\\site-packages\\sklearn\\linear_model\\_logistic.py:940: ConvergenceWarning: lbfgs failed to converge (status=1):\n",
      "STOP: TOTAL NO. of ITERATIONS REACHED LIMIT.\n",
      "\n",
      "Increase the number of iterations (max_iter) or scale the data as shown in:\n",
      "    https://scikit-learn.org/stable/modules/preprocessing.html\n",
      "Please also refer to the documentation for alternative solver options:\n",
      "    https://scikit-learn.org/stable/modules/linear_model.html#logistic-regression\n",
      "  extra_warning_msg=_LOGISTIC_SOLVER_CONVERGENCE_MSG)\n",
      "D:\\ProgramData\\Anaconda3\\lib\\site-packages\\sklearn\\linear_model\\_logistic.py:940: ConvergenceWarning: lbfgs failed to converge (status=1):\n",
      "STOP: TOTAL NO. of ITERATIONS REACHED LIMIT.\n",
      "\n",
      "Increase the number of iterations (max_iter) or scale the data as shown in:\n",
      "    https://scikit-learn.org/stable/modules/preprocessing.html\n",
      "Please also refer to the documentation for alternative solver options:\n",
      "    https://scikit-learn.org/stable/modules/linear_model.html#logistic-regression\n",
      "  extra_warning_msg=_LOGISTIC_SOLVER_CONVERGENCE_MSG)\n",
      "D:\\ProgramData\\Anaconda3\\lib\\site-packages\\sklearn\\linear_model\\_logistic.py:940: ConvergenceWarning: lbfgs failed to converge (status=1):\n",
      "STOP: TOTAL NO. of ITERATIONS REACHED LIMIT.\n",
      "\n",
      "Increase the number of iterations (max_iter) or scale the data as shown in:\n",
      "    https://scikit-learn.org/stable/modules/preprocessing.html\n",
      "Please also refer to the documentation for alternative solver options:\n",
      "    https://scikit-learn.org/stable/modules/linear_model.html#logistic-regression\n",
      "  extra_warning_msg=_LOGISTIC_SOLVER_CONVERGENCE_MSG)\n",
      "D:\\ProgramData\\Anaconda3\\lib\\site-packages\\sklearn\\linear_model\\_logistic.py:940: ConvergenceWarning: lbfgs failed to converge (status=1):\n",
      "STOP: TOTAL NO. of ITERATIONS REACHED LIMIT.\n",
      "\n",
      "Increase the number of iterations (max_iter) or scale the data as shown in:\n",
      "    https://scikit-learn.org/stable/modules/preprocessing.html\n",
      "Please also refer to the documentation for alternative solver options:\n",
      "    https://scikit-learn.org/stable/modules/linear_model.html#logistic-regression\n",
      "  extra_warning_msg=_LOGISTIC_SOLVER_CONVERGENCE_MSG)\n",
      "D:\\ProgramData\\Anaconda3\\lib\\site-packages\\sklearn\\linear_model\\_logistic.py:940: ConvergenceWarning: lbfgs failed to converge (status=1):\n",
      "STOP: TOTAL NO. of ITERATIONS REACHED LIMIT.\n",
      "\n",
      "Increase the number of iterations (max_iter) or scale the data as shown in:\n",
      "    https://scikit-learn.org/stable/modules/preprocessing.html\n",
      "Please also refer to the documentation for alternative solver options:\n",
      "    https://scikit-learn.org/stable/modules/linear_model.html#logistic-regression\n",
      "  extra_warning_msg=_LOGISTIC_SOLVER_CONVERGENCE_MSG)\n",
      "D:\\ProgramData\\Anaconda3\\lib\\site-packages\\sklearn\\linear_model\\_logistic.py:940: ConvergenceWarning: lbfgs failed to converge (status=1):\n",
      "STOP: TOTAL NO. of ITERATIONS REACHED LIMIT.\n",
      "\n",
      "Increase the number of iterations (max_iter) or scale the data as shown in:\n",
      "    https://scikit-learn.org/stable/modules/preprocessing.html\n",
      "Please also refer to the documentation for alternative solver options:\n",
      "    https://scikit-learn.org/stable/modules/linear_model.html#logistic-regression\n",
      "  extra_warning_msg=_LOGISTIC_SOLVER_CONVERGENCE_MSG)\n",
      "D:\\ProgramData\\Anaconda3\\lib\\site-packages\\sklearn\\linear_model\\_logistic.py:940: ConvergenceWarning: lbfgs failed to converge (status=1):\n",
      "STOP: TOTAL NO. of ITERATIONS REACHED LIMIT.\n",
      "\n",
      "Increase the number of iterations (max_iter) or scale the data as shown in:\n",
      "    https://scikit-learn.org/stable/modules/preprocessing.html\n",
      "Please also refer to the documentation for alternative solver options:\n",
      "    https://scikit-learn.org/stable/modules/linear_model.html#logistic-regression\n",
      "  extra_warning_msg=_LOGISTIC_SOLVER_CONVERGENCE_MSG)\n",
      "D:\\ProgramData\\Anaconda3\\lib\\site-packages\\sklearn\\linear_model\\_logistic.py:940: ConvergenceWarning: lbfgs failed to converge (status=1):\n",
      "STOP: TOTAL NO. of ITERATIONS REACHED LIMIT.\n",
      "\n",
      "Increase the number of iterations (max_iter) or scale the data as shown in:\n",
      "    https://scikit-learn.org/stable/modules/preprocessing.html\n",
      "Please also refer to the documentation for alternative solver options:\n",
      "    https://scikit-learn.org/stable/modules/linear_model.html#logistic-regression\n",
      "  extra_warning_msg=_LOGISTIC_SOLVER_CONVERGENCE_MSG)\n",
      "D:\\ProgramData\\Anaconda3\\lib\\site-packages\\sklearn\\linear_model\\_logistic.py:940: ConvergenceWarning: lbfgs failed to converge (status=1):\n",
      "STOP: TOTAL NO. of ITERATIONS REACHED LIMIT.\n",
      "\n",
      "Increase the number of iterations (max_iter) or scale the data as shown in:\n",
      "    https://scikit-learn.org/stable/modules/preprocessing.html\n",
      "Please also refer to the documentation for alternative solver options:\n",
      "    https://scikit-learn.org/stable/modules/linear_model.html#logistic-regression\n",
      "  extra_warning_msg=_LOGISTIC_SOLVER_CONVERGENCE_MSG)\n",
      "D:\\ProgramData\\Anaconda3\\lib\\site-packages\\sklearn\\linear_model\\_logistic.py:940: ConvergenceWarning: lbfgs failed to converge (status=1):\n",
      "STOP: TOTAL NO. of ITERATIONS REACHED LIMIT.\n",
      "\n",
      "Increase the number of iterations (max_iter) or scale the data as shown in:\n",
      "    https://scikit-learn.org/stable/modules/preprocessing.html\n",
      "Please also refer to the documentation for alternative solver options:\n",
      "    https://scikit-learn.org/stable/modules/linear_model.html#logistic-regression\n",
      "  extra_warning_msg=_LOGISTIC_SOLVER_CONVERGENCE_MSG)\n"
     ]
    },
    {
     "name": "stderr",
     "output_type": "stream",
     "text": [
      "D:\\ProgramData\\Anaconda3\\lib\\site-packages\\sklearn\\linear_model\\_logistic.py:940: ConvergenceWarning: lbfgs failed to converge (status=1):\n",
      "STOP: TOTAL NO. of ITERATIONS REACHED LIMIT.\n",
      "\n",
      "Increase the number of iterations (max_iter) or scale the data as shown in:\n",
      "    https://scikit-learn.org/stable/modules/preprocessing.html\n",
      "Please also refer to the documentation for alternative solver options:\n",
      "    https://scikit-learn.org/stable/modules/linear_model.html#logistic-regression\n",
      "  extra_warning_msg=_LOGISTIC_SOLVER_CONVERGENCE_MSG)\n",
      "D:\\ProgramData\\Anaconda3\\lib\\site-packages\\sklearn\\linear_model\\_logistic.py:940: ConvergenceWarning: lbfgs failed to converge (status=1):\n",
      "STOP: TOTAL NO. of ITERATIONS REACHED LIMIT.\n",
      "\n",
      "Increase the number of iterations (max_iter) or scale the data as shown in:\n",
      "    https://scikit-learn.org/stable/modules/preprocessing.html\n",
      "Please also refer to the documentation for alternative solver options:\n",
      "    https://scikit-learn.org/stable/modules/linear_model.html#logistic-regression\n",
      "  extra_warning_msg=_LOGISTIC_SOLVER_CONVERGENCE_MSG)\n",
      "D:\\ProgramData\\Anaconda3\\lib\\site-packages\\sklearn\\linear_model\\_logistic.py:940: ConvergenceWarning: lbfgs failed to converge (status=1):\n",
      "STOP: TOTAL NO. of ITERATIONS REACHED LIMIT.\n",
      "\n",
      "Increase the number of iterations (max_iter) or scale the data as shown in:\n",
      "    https://scikit-learn.org/stable/modules/preprocessing.html\n",
      "Please also refer to the documentation for alternative solver options:\n",
      "    https://scikit-learn.org/stable/modules/linear_model.html#logistic-regression\n",
      "  extra_warning_msg=_LOGISTIC_SOLVER_CONVERGENCE_MSG)\n",
      "D:\\ProgramData\\Anaconda3\\lib\\site-packages\\sklearn\\linear_model\\_logistic.py:940: ConvergenceWarning: lbfgs failed to converge (status=1):\n",
      "STOP: TOTAL NO. of ITERATIONS REACHED LIMIT.\n",
      "\n",
      "Increase the number of iterations (max_iter) or scale the data as shown in:\n",
      "    https://scikit-learn.org/stable/modules/preprocessing.html\n",
      "Please also refer to the documentation for alternative solver options:\n",
      "    https://scikit-learn.org/stable/modules/linear_model.html#logistic-regression\n",
      "  extra_warning_msg=_LOGISTIC_SOLVER_CONVERGENCE_MSG)\n",
      "D:\\ProgramData\\Anaconda3\\lib\\site-packages\\sklearn\\linear_model\\_logistic.py:940: ConvergenceWarning: lbfgs failed to converge (status=1):\n",
      "STOP: TOTAL NO. of ITERATIONS REACHED LIMIT.\n",
      "\n",
      "Increase the number of iterations (max_iter) or scale the data as shown in:\n",
      "    https://scikit-learn.org/stable/modules/preprocessing.html\n",
      "Please also refer to the documentation for alternative solver options:\n",
      "    https://scikit-learn.org/stable/modules/linear_model.html#logistic-regression\n",
      "  extra_warning_msg=_LOGISTIC_SOLVER_CONVERGENCE_MSG)\n",
      "D:\\ProgramData\\Anaconda3\\lib\\site-packages\\sklearn\\linear_model\\_logistic.py:940: ConvergenceWarning: lbfgs failed to converge (status=1):\n",
      "STOP: TOTAL NO. of ITERATIONS REACHED LIMIT.\n",
      "\n",
      "Increase the number of iterations (max_iter) or scale the data as shown in:\n",
      "    https://scikit-learn.org/stable/modules/preprocessing.html\n",
      "Please also refer to the documentation for alternative solver options:\n",
      "    https://scikit-learn.org/stable/modules/linear_model.html#logistic-regression\n",
      "  extra_warning_msg=_LOGISTIC_SOLVER_CONVERGENCE_MSG)\n",
      "D:\\ProgramData\\Anaconda3\\lib\\site-packages\\sklearn\\linear_model\\_logistic.py:940: ConvergenceWarning: lbfgs failed to converge (status=1):\n",
      "STOP: TOTAL NO. of ITERATIONS REACHED LIMIT.\n",
      "\n",
      "Increase the number of iterations (max_iter) or scale the data as shown in:\n",
      "    https://scikit-learn.org/stable/modules/preprocessing.html\n",
      "Please also refer to the documentation for alternative solver options:\n",
      "    https://scikit-learn.org/stable/modules/linear_model.html#logistic-regression\n",
      "  extra_warning_msg=_LOGISTIC_SOLVER_CONVERGENCE_MSG)\n",
      "D:\\ProgramData\\Anaconda3\\lib\\site-packages\\sklearn\\linear_model\\_logistic.py:940: ConvergenceWarning: lbfgs failed to converge (status=1):\n",
      "STOP: TOTAL NO. of ITERATIONS REACHED LIMIT.\n",
      "\n",
      "Increase the number of iterations (max_iter) or scale the data as shown in:\n",
      "    https://scikit-learn.org/stable/modules/preprocessing.html\n",
      "Please also refer to the documentation for alternative solver options:\n",
      "    https://scikit-learn.org/stable/modules/linear_model.html#logistic-regression\n",
      "  extra_warning_msg=_LOGISTIC_SOLVER_CONVERGENCE_MSG)\n",
      "D:\\ProgramData\\Anaconda3\\lib\\site-packages\\sklearn\\linear_model\\_logistic.py:940: ConvergenceWarning: lbfgs failed to converge (status=1):\n",
      "STOP: TOTAL NO. of ITERATIONS REACHED LIMIT.\n",
      "\n",
      "Increase the number of iterations (max_iter) or scale the data as shown in:\n",
      "    https://scikit-learn.org/stable/modules/preprocessing.html\n",
      "Please also refer to the documentation for alternative solver options:\n",
      "    https://scikit-learn.org/stable/modules/linear_model.html#logistic-regression\n",
      "  extra_warning_msg=_LOGISTIC_SOLVER_CONVERGENCE_MSG)\n",
      "D:\\ProgramData\\Anaconda3\\lib\\site-packages\\sklearn\\linear_model\\_logistic.py:940: ConvergenceWarning: lbfgs failed to converge (status=1):\n",
      "STOP: TOTAL NO. of ITERATIONS REACHED LIMIT.\n",
      "\n",
      "Increase the number of iterations (max_iter) or scale the data as shown in:\n",
      "    https://scikit-learn.org/stable/modules/preprocessing.html\n",
      "Please also refer to the documentation for alternative solver options:\n",
      "    https://scikit-learn.org/stable/modules/linear_model.html#logistic-regression\n",
      "  extra_warning_msg=_LOGISTIC_SOLVER_CONVERGENCE_MSG)\n",
      "D:\\ProgramData\\Anaconda3\\lib\\site-packages\\sklearn\\linear_model\\_logistic.py:940: ConvergenceWarning: lbfgs failed to converge (status=1):\n",
      "STOP: TOTAL NO. of ITERATIONS REACHED LIMIT.\n",
      "\n",
      "Increase the number of iterations (max_iter) or scale the data as shown in:\n",
      "    https://scikit-learn.org/stable/modules/preprocessing.html\n",
      "Please also refer to the documentation for alternative solver options:\n",
      "    https://scikit-learn.org/stable/modules/linear_model.html#logistic-regression\n",
      "  extra_warning_msg=_LOGISTIC_SOLVER_CONVERGENCE_MSG)\n",
      "D:\\ProgramData\\Anaconda3\\lib\\site-packages\\sklearn\\linear_model\\_logistic.py:940: ConvergenceWarning: lbfgs failed to converge (status=1):\n",
      "STOP: TOTAL NO. of ITERATIONS REACHED LIMIT.\n",
      "\n",
      "Increase the number of iterations (max_iter) or scale the data as shown in:\n",
      "    https://scikit-learn.org/stable/modules/preprocessing.html\n",
      "Please also refer to the documentation for alternative solver options:\n",
      "    https://scikit-learn.org/stable/modules/linear_model.html#logistic-regression\n",
      "  extra_warning_msg=_LOGISTIC_SOLVER_CONVERGENCE_MSG)\n",
      "D:\\ProgramData\\Anaconda3\\lib\\site-packages\\sklearn\\linear_model\\_logistic.py:940: ConvergenceWarning: lbfgs failed to converge (status=1):\n",
      "STOP: TOTAL NO. of ITERATIONS REACHED LIMIT.\n",
      "\n",
      "Increase the number of iterations (max_iter) or scale the data as shown in:\n",
      "    https://scikit-learn.org/stable/modules/preprocessing.html\n",
      "Please also refer to the documentation for alternative solver options:\n",
      "    https://scikit-learn.org/stable/modules/linear_model.html#logistic-regression\n",
      "  extra_warning_msg=_LOGISTIC_SOLVER_CONVERGENCE_MSG)\n",
      "D:\\ProgramData\\Anaconda3\\lib\\site-packages\\sklearn\\linear_model\\_logistic.py:940: ConvergenceWarning: lbfgs failed to converge (status=1):\n",
      "STOP: TOTAL NO. of ITERATIONS REACHED LIMIT.\n",
      "\n",
      "Increase the number of iterations (max_iter) or scale the data as shown in:\n",
      "    https://scikit-learn.org/stable/modules/preprocessing.html\n",
      "Please also refer to the documentation for alternative solver options:\n",
      "    https://scikit-learn.org/stable/modules/linear_model.html#logistic-regression\n",
      "  extra_warning_msg=_LOGISTIC_SOLVER_CONVERGENCE_MSG)\n",
      "D:\\ProgramData\\Anaconda3\\lib\\site-packages\\sklearn\\linear_model\\_logistic.py:940: ConvergenceWarning: lbfgs failed to converge (status=1):\n",
      "STOP: TOTAL NO. of ITERATIONS REACHED LIMIT.\n",
      "\n",
      "Increase the number of iterations (max_iter) or scale the data as shown in:\n",
      "    https://scikit-learn.org/stable/modules/preprocessing.html\n",
      "Please also refer to the documentation for alternative solver options:\n",
      "    https://scikit-learn.org/stable/modules/linear_model.html#logistic-regression\n",
      "  extra_warning_msg=_LOGISTIC_SOLVER_CONVERGENCE_MSG)\n",
      "D:\\ProgramData\\Anaconda3\\lib\\site-packages\\sklearn\\linear_model\\_logistic.py:940: ConvergenceWarning: lbfgs failed to converge (status=1):\n",
      "STOP: TOTAL NO. of ITERATIONS REACHED LIMIT.\n",
      "\n",
      "Increase the number of iterations (max_iter) or scale the data as shown in:\n",
      "    https://scikit-learn.org/stable/modules/preprocessing.html\n",
      "Please also refer to the documentation for alternative solver options:\n",
      "    https://scikit-learn.org/stable/modules/linear_model.html#logistic-regression\n",
      "  extra_warning_msg=_LOGISTIC_SOLVER_CONVERGENCE_MSG)\n"
     ]
    },
    {
     "name": "stderr",
     "output_type": "stream",
     "text": [
      "D:\\ProgramData\\Anaconda3\\lib\\site-packages\\sklearn\\linear_model\\_logistic.py:940: ConvergenceWarning: lbfgs failed to converge (status=1):\n",
      "STOP: TOTAL NO. of ITERATIONS REACHED LIMIT.\n",
      "\n",
      "Increase the number of iterations (max_iter) or scale the data as shown in:\n",
      "    https://scikit-learn.org/stable/modules/preprocessing.html\n",
      "Please also refer to the documentation for alternative solver options:\n",
      "    https://scikit-learn.org/stable/modules/linear_model.html#logistic-regression\n",
      "  extra_warning_msg=_LOGISTIC_SOLVER_CONVERGENCE_MSG)\n",
      "D:\\ProgramData\\Anaconda3\\lib\\site-packages\\sklearn\\linear_model\\_logistic.py:940: ConvergenceWarning: lbfgs failed to converge (status=1):\n",
      "STOP: TOTAL NO. of ITERATIONS REACHED LIMIT.\n",
      "\n",
      "Increase the number of iterations (max_iter) or scale the data as shown in:\n",
      "    https://scikit-learn.org/stable/modules/preprocessing.html\n",
      "Please also refer to the documentation for alternative solver options:\n",
      "    https://scikit-learn.org/stable/modules/linear_model.html#logistic-regression\n",
      "  extra_warning_msg=_LOGISTIC_SOLVER_CONVERGENCE_MSG)\n",
      "D:\\ProgramData\\Anaconda3\\lib\\site-packages\\sklearn\\linear_model\\_logistic.py:940: ConvergenceWarning: lbfgs failed to converge (status=1):\n",
      "STOP: TOTAL NO. of ITERATIONS REACHED LIMIT.\n",
      "\n",
      "Increase the number of iterations (max_iter) or scale the data as shown in:\n",
      "    https://scikit-learn.org/stable/modules/preprocessing.html\n",
      "Please also refer to the documentation for alternative solver options:\n",
      "    https://scikit-learn.org/stable/modules/linear_model.html#logistic-regression\n",
      "  extra_warning_msg=_LOGISTIC_SOLVER_CONVERGENCE_MSG)\n",
      "D:\\ProgramData\\Anaconda3\\lib\\site-packages\\sklearn\\linear_model\\_logistic.py:940: ConvergenceWarning: lbfgs failed to converge (status=1):\n",
      "STOP: TOTAL NO. of ITERATIONS REACHED LIMIT.\n",
      "\n",
      "Increase the number of iterations (max_iter) or scale the data as shown in:\n",
      "    https://scikit-learn.org/stable/modules/preprocessing.html\n",
      "Please also refer to the documentation for alternative solver options:\n",
      "    https://scikit-learn.org/stable/modules/linear_model.html#logistic-regression\n",
      "  extra_warning_msg=_LOGISTIC_SOLVER_CONVERGENCE_MSG)\n",
      "D:\\ProgramData\\Anaconda3\\lib\\site-packages\\sklearn\\linear_model\\_logistic.py:940: ConvergenceWarning: lbfgs failed to converge (status=1):\n",
      "STOP: TOTAL NO. of ITERATIONS REACHED LIMIT.\n",
      "\n",
      "Increase the number of iterations (max_iter) or scale the data as shown in:\n",
      "    https://scikit-learn.org/stable/modules/preprocessing.html\n",
      "Please also refer to the documentation for alternative solver options:\n",
      "    https://scikit-learn.org/stable/modules/linear_model.html#logistic-regression\n",
      "  extra_warning_msg=_LOGISTIC_SOLVER_CONVERGENCE_MSG)\n",
      "D:\\ProgramData\\Anaconda3\\lib\\site-packages\\sklearn\\linear_model\\_logistic.py:940: ConvergenceWarning: lbfgs failed to converge (status=1):\n",
      "STOP: TOTAL NO. of ITERATIONS REACHED LIMIT.\n",
      "\n",
      "Increase the number of iterations (max_iter) or scale the data as shown in:\n",
      "    https://scikit-learn.org/stable/modules/preprocessing.html\n",
      "Please also refer to the documentation for alternative solver options:\n",
      "    https://scikit-learn.org/stable/modules/linear_model.html#logistic-regression\n",
      "  extra_warning_msg=_LOGISTIC_SOLVER_CONVERGENCE_MSG)\n",
      "D:\\ProgramData\\Anaconda3\\lib\\site-packages\\sklearn\\linear_model\\_logistic.py:940: ConvergenceWarning: lbfgs failed to converge (status=1):\n",
      "STOP: TOTAL NO. of ITERATIONS REACHED LIMIT.\n",
      "\n",
      "Increase the number of iterations (max_iter) or scale the data as shown in:\n",
      "    https://scikit-learn.org/stable/modules/preprocessing.html\n",
      "Please also refer to the documentation for alternative solver options:\n",
      "    https://scikit-learn.org/stable/modules/linear_model.html#logistic-regression\n",
      "  extra_warning_msg=_LOGISTIC_SOLVER_CONVERGENCE_MSG)\n",
      "D:\\ProgramData\\Anaconda3\\lib\\site-packages\\sklearn\\linear_model\\_logistic.py:940: ConvergenceWarning: lbfgs failed to converge (status=1):\n",
      "STOP: TOTAL NO. of ITERATIONS REACHED LIMIT.\n",
      "\n",
      "Increase the number of iterations (max_iter) or scale the data as shown in:\n",
      "    https://scikit-learn.org/stable/modules/preprocessing.html\n",
      "Please also refer to the documentation for alternative solver options:\n",
      "    https://scikit-learn.org/stable/modules/linear_model.html#logistic-regression\n",
      "  extra_warning_msg=_LOGISTIC_SOLVER_CONVERGENCE_MSG)\n",
      "D:\\ProgramData\\Anaconda3\\lib\\site-packages\\sklearn\\linear_model\\_logistic.py:940: ConvergenceWarning: lbfgs failed to converge (status=1):\n",
      "STOP: TOTAL NO. of ITERATIONS REACHED LIMIT.\n",
      "\n",
      "Increase the number of iterations (max_iter) or scale the data as shown in:\n",
      "    https://scikit-learn.org/stable/modules/preprocessing.html\n",
      "Please also refer to the documentation for alternative solver options:\n",
      "    https://scikit-learn.org/stable/modules/linear_model.html#logistic-regression\n",
      "  extra_warning_msg=_LOGISTIC_SOLVER_CONVERGENCE_MSG)\n",
      "D:\\ProgramData\\Anaconda3\\lib\\site-packages\\sklearn\\linear_model\\_logistic.py:940: ConvergenceWarning: lbfgs failed to converge (status=1):\n",
      "STOP: TOTAL NO. of ITERATIONS REACHED LIMIT.\n",
      "\n",
      "Increase the number of iterations (max_iter) or scale the data as shown in:\n",
      "    https://scikit-learn.org/stable/modules/preprocessing.html\n",
      "Please also refer to the documentation for alternative solver options:\n",
      "    https://scikit-learn.org/stable/modules/linear_model.html#logistic-regression\n",
      "  extra_warning_msg=_LOGISTIC_SOLVER_CONVERGENCE_MSG)\n",
      "D:\\ProgramData\\Anaconda3\\lib\\site-packages\\sklearn\\linear_model\\_logistic.py:940: ConvergenceWarning: lbfgs failed to converge (status=1):\n",
      "STOP: TOTAL NO. of ITERATIONS REACHED LIMIT.\n",
      "\n",
      "Increase the number of iterations (max_iter) or scale the data as shown in:\n",
      "    https://scikit-learn.org/stable/modules/preprocessing.html\n",
      "Please also refer to the documentation for alternative solver options:\n",
      "    https://scikit-learn.org/stable/modules/linear_model.html#logistic-regression\n",
      "  extra_warning_msg=_LOGISTIC_SOLVER_CONVERGENCE_MSG)\n",
      "D:\\ProgramData\\Anaconda3\\lib\\site-packages\\sklearn\\linear_model\\_logistic.py:940: ConvergenceWarning: lbfgs failed to converge (status=1):\n",
      "STOP: TOTAL NO. of ITERATIONS REACHED LIMIT.\n",
      "\n",
      "Increase the number of iterations (max_iter) or scale the data as shown in:\n",
      "    https://scikit-learn.org/stable/modules/preprocessing.html\n",
      "Please also refer to the documentation for alternative solver options:\n",
      "    https://scikit-learn.org/stable/modules/linear_model.html#logistic-regression\n",
      "  extra_warning_msg=_LOGISTIC_SOLVER_CONVERGENCE_MSG)\n",
      "D:\\ProgramData\\Anaconda3\\lib\\site-packages\\sklearn\\linear_model\\_logistic.py:940: ConvergenceWarning: lbfgs failed to converge (status=1):\n",
      "STOP: TOTAL NO. of ITERATIONS REACHED LIMIT.\n",
      "\n",
      "Increase the number of iterations (max_iter) or scale the data as shown in:\n",
      "    https://scikit-learn.org/stable/modules/preprocessing.html\n",
      "Please also refer to the documentation for alternative solver options:\n",
      "    https://scikit-learn.org/stable/modules/linear_model.html#logistic-regression\n",
      "  extra_warning_msg=_LOGISTIC_SOLVER_CONVERGENCE_MSG)\n",
      "D:\\ProgramData\\Anaconda3\\lib\\site-packages\\sklearn\\linear_model\\_logistic.py:940: ConvergenceWarning: lbfgs failed to converge (status=1):\n",
      "STOP: TOTAL NO. of ITERATIONS REACHED LIMIT.\n",
      "\n",
      "Increase the number of iterations (max_iter) or scale the data as shown in:\n",
      "    https://scikit-learn.org/stable/modules/preprocessing.html\n",
      "Please also refer to the documentation for alternative solver options:\n",
      "    https://scikit-learn.org/stable/modules/linear_model.html#logistic-regression\n",
      "  extra_warning_msg=_LOGISTIC_SOLVER_CONVERGENCE_MSG)\n",
      "D:\\ProgramData\\Anaconda3\\lib\\site-packages\\sklearn\\linear_model\\_logistic.py:940: ConvergenceWarning: lbfgs failed to converge (status=1):\n",
      "STOP: TOTAL NO. of ITERATIONS REACHED LIMIT.\n",
      "\n",
      "Increase the number of iterations (max_iter) or scale the data as shown in:\n",
      "    https://scikit-learn.org/stable/modules/preprocessing.html\n",
      "Please also refer to the documentation for alternative solver options:\n",
      "    https://scikit-learn.org/stable/modules/linear_model.html#logistic-regression\n",
      "  extra_warning_msg=_LOGISTIC_SOLVER_CONVERGENCE_MSG)\n",
      "D:\\ProgramData\\Anaconda3\\lib\\site-packages\\sklearn\\linear_model\\_logistic.py:940: ConvergenceWarning: lbfgs failed to converge (status=1):\n",
      "STOP: TOTAL NO. of ITERATIONS REACHED LIMIT.\n",
      "\n",
      "Increase the number of iterations (max_iter) or scale the data as shown in:\n",
      "    https://scikit-learn.org/stable/modules/preprocessing.html\n",
      "Please also refer to the documentation for alternative solver options:\n",
      "    https://scikit-learn.org/stable/modules/linear_model.html#logistic-regression\n",
      "  extra_warning_msg=_LOGISTIC_SOLVER_CONVERGENCE_MSG)\n"
     ]
    },
    {
     "name": "stderr",
     "output_type": "stream",
     "text": [
      "D:\\ProgramData\\Anaconda3\\lib\\site-packages\\sklearn\\linear_model\\_logistic.py:940: ConvergenceWarning: lbfgs failed to converge (status=1):\n",
      "STOP: TOTAL NO. of ITERATIONS REACHED LIMIT.\n",
      "\n",
      "Increase the number of iterations (max_iter) or scale the data as shown in:\n",
      "    https://scikit-learn.org/stable/modules/preprocessing.html\n",
      "Please also refer to the documentation for alternative solver options:\n",
      "    https://scikit-learn.org/stable/modules/linear_model.html#logistic-regression\n",
      "  extra_warning_msg=_LOGISTIC_SOLVER_CONVERGENCE_MSG)\n",
      "D:\\ProgramData\\Anaconda3\\lib\\site-packages\\sklearn\\linear_model\\_logistic.py:940: ConvergenceWarning: lbfgs failed to converge (status=1):\n",
      "STOP: TOTAL NO. of ITERATIONS REACHED LIMIT.\n",
      "\n",
      "Increase the number of iterations (max_iter) or scale the data as shown in:\n",
      "    https://scikit-learn.org/stable/modules/preprocessing.html\n",
      "Please also refer to the documentation for alternative solver options:\n",
      "    https://scikit-learn.org/stable/modules/linear_model.html#logistic-regression\n",
      "  extra_warning_msg=_LOGISTIC_SOLVER_CONVERGENCE_MSG)\n",
      "D:\\ProgramData\\Anaconda3\\lib\\site-packages\\sklearn\\linear_model\\_logistic.py:940: ConvergenceWarning: lbfgs failed to converge (status=1):\n",
      "STOP: TOTAL NO. of ITERATIONS REACHED LIMIT.\n",
      "\n",
      "Increase the number of iterations (max_iter) or scale the data as shown in:\n",
      "    https://scikit-learn.org/stable/modules/preprocessing.html\n",
      "Please also refer to the documentation for alternative solver options:\n",
      "    https://scikit-learn.org/stable/modules/linear_model.html#logistic-regression\n",
      "  extra_warning_msg=_LOGISTIC_SOLVER_CONVERGENCE_MSG)\n",
      "D:\\ProgramData\\Anaconda3\\lib\\site-packages\\sklearn\\linear_model\\_logistic.py:940: ConvergenceWarning: lbfgs failed to converge (status=1):\n",
      "STOP: TOTAL NO. of ITERATIONS REACHED LIMIT.\n",
      "\n",
      "Increase the number of iterations (max_iter) or scale the data as shown in:\n",
      "    https://scikit-learn.org/stable/modules/preprocessing.html\n",
      "Please also refer to the documentation for alternative solver options:\n",
      "    https://scikit-learn.org/stable/modules/linear_model.html#logistic-regression\n",
      "  extra_warning_msg=_LOGISTIC_SOLVER_CONVERGENCE_MSG)\n",
      "D:\\ProgramData\\Anaconda3\\lib\\site-packages\\sklearn\\linear_model\\_logistic.py:940: ConvergenceWarning: lbfgs failed to converge (status=1):\n",
      "STOP: TOTAL NO. of ITERATIONS REACHED LIMIT.\n",
      "\n",
      "Increase the number of iterations (max_iter) or scale the data as shown in:\n",
      "    https://scikit-learn.org/stable/modules/preprocessing.html\n",
      "Please also refer to the documentation for alternative solver options:\n",
      "    https://scikit-learn.org/stable/modules/linear_model.html#logistic-regression\n",
      "  extra_warning_msg=_LOGISTIC_SOLVER_CONVERGENCE_MSG)\n",
      "D:\\ProgramData\\Anaconda3\\lib\\site-packages\\sklearn\\linear_model\\_logistic.py:940: ConvergenceWarning: lbfgs failed to converge (status=1):\n",
      "STOP: TOTAL NO. of ITERATIONS REACHED LIMIT.\n",
      "\n",
      "Increase the number of iterations (max_iter) or scale the data as shown in:\n",
      "    https://scikit-learn.org/stable/modules/preprocessing.html\n",
      "Please also refer to the documentation for alternative solver options:\n",
      "    https://scikit-learn.org/stable/modules/linear_model.html#logistic-regression\n",
      "  extra_warning_msg=_LOGISTIC_SOLVER_CONVERGENCE_MSG)\n",
      "D:\\ProgramData\\Anaconda3\\lib\\site-packages\\sklearn\\linear_model\\_logistic.py:940: ConvergenceWarning: lbfgs failed to converge (status=1):\n",
      "STOP: TOTAL NO. of ITERATIONS REACHED LIMIT.\n",
      "\n",
      "Increase the number of iterations (max_iter) or scale the data as shown in:\n",
      "    https://scikit-learn.org/stable/modules/preprocessing.html\n",
      "Please also refer to the documentation for alternative solver options:\n",
      "    https://scikit-learn.org/stable/modules/linear_model.html#logistic-regression\n",
      "  extra_warning_msg=_LOGISTIC_SOLVER_CONVERGENCE_MSG)\n",
      "D:\\ProgramData\\Anaconda3\\lib\\site-packages\\sklearn\\linear_model\\_logistic.py:940: ConvergenceWarning: lbfgs failed to converge (status=1):\n",
      "STOP: TOTAL NO. of ITERATIONS REACHED LIMIT.\n",
      "\n",
      "Increase the number of iterations (max_iter) or scale the data as shown in:\n",
      "    https://scikit-learn.org/stable/modules/preprocessing.html\n",
      "Please also refer to the documentation for alternative solver options:\n",
      "    https://scikit-learn.org/stable/modules/linear_model.html#logistic-regression\n",
      "  extra_warning_msg=_LOGISTIC_SOLVER_CONVERGENCE_MSG)\n",
      "D:\\ProgramData\\Anaconda3\\lib\\site-packages\\sklearn\\linear_model\\_logistic.py:940: ConvergenceWarning: lbfgs failed to converge (status=1):\n",
      "STOP: TOTAL NO. of ITERATIONS REACHED LIMIT.\n",
      "\n",
      "Increase the number of iterations (max_iter) or scale the data as shown in:\n",
      "    https://scikit-learn.org/stable/modules/preprocessing.html\n",
      "Please also refer to the documentation for alternative solver options:\n",
      "    https://scikit-learn.org/stable/modules/linear_model.html#logistic-regression\n",
      "  extra_warning_msg=_LOGISTIC_SOLVER_CONVERGENCE_MSG)\n",
      "D:\\ProgramData\\Anaconda3\\lib\\site-packages\\sklearn\\linear_model\\_logistic.py:940: ConvergenceWarning: lbfgs failed to converge (status=1):\n",
      "STOP: TOTAL NO. of ITERATIONS REACHED LIMIT.\n",
      "\n",
      "Increase the number of iterations (max_iter) or scale the data as shown in:\n",
      "    https://scikit-learn.org/stable/modules/preprocessing.html\n",
      "Please also refer to the documentation for alternative solver options:\n",
      "    https://scikit-learn.org/stable/modules/linear_model.html#logistic-regression\n",
      "  extra_warning_msg=_LOGISTIC_SOLVER_CONVERGENCE_MSG)\n",
      "D:\\ProgramData\\Anaconda3\\lib\\site-packages\\sklearn\\linear_model\\_logistic.py:940: ConvergenceWarning: lbfgs failed to converge (status=1):\n",
      "STOP: TOTAL NO. of ITERATIONS REACHED LIMIT.\n",
      "\n",
      "Increase the number of iterations (max_iter) or scale the data as shown in:\n",
      "    https://scikit-learn.org/stable/modules/preprocessing.html\n",
      "Please also refer to the documentation for alternative solver options:\n",
      "    https://scikit-learn.org/stable/modules/linear_model.html#logistic-regression\n",
      "  extra_warning_msg=_LOGISTIC_SOLVER_CONVERGENCE_MSG)\n",
      "D:\\ProgramData\\Anaconda3\\lib\\site-packages\\sklearn\\linear_model\\_logistic.py:940: ConvergenceWarning: lbfgs failed to converge (status=1):\n",
      "STOP: TOTAL NO. of ITERATIONS REACHED LIMIT.\n",
      "\n",
      "Increase the number of iterations (max_iter) or scale the data as shown in:\n",
      "    https://scikit-learn.org/stable/modules/preprocessing.html\n",
      "Please also refer to the documentation for alternative solver options:\n",
      "    https://scikit-learn.org/stable/modules/linear_model.html#logistic-regression\n",
      "  extra_warning_msg=_LOGISTIC_SOLVER_CONVERGENCE_MSG)\n",
      "D:\\ProgramData\\Anaconda3\\lib\\site-packages\\sklearn\\linear_model\\_logistic.py:940: ConvergenceWarning: lbfgs failed to converge (status=1):\n",
      "STOP: TOTAL NO. of ITERATIONS REACHED LIMIT.\n",
      "\n",
      "Increase the number of iterations (max_iter) or scale the data as shown in:\n",
      "    https://scikit-learn.org/stable/modules/preprocessing.html\n",
      "Please also refer to the documentation for alternative solver options:\n",
      "    https://scikit-learn.org/stable/modules/linear_model.html#logistic-regression\n",
      "  extra_warning_msg=_LOGISTIC_SOLVER_CONVERGENCE_MSG)\n",
      "D:\\ProgramData\\Anaconda3\\lib\\site-packages\\sklearn\\linear_model\\_logistic.py:940: ConvergenceWarning: lbfgs failed to converge (status=1):\n",
      "STOP: TOTAL NO. of ITERATIONS REACHED LIMIT.\n",
      "\n",
      "Increase the number of iterations (max_iter) or scale the data as shown in:\n",
      "    https://scikit-learn.org/stable/modules/preprocessing.html\n",
      "Please also refer to the documentation for alternative solver options:\n",
      "    https://scikit-learn.org/stable/modules/linear_model.html#logistic-regression\n",
      "  extra_warning_msg=_LOGISTIC_SOLVER_CONVERGENCE_MSG)\n",
      "D:\\ProgramData\\Anaconda3\\lib\\site-packages\\sklearn\\linear_model\\_logistic.py:940: ConvergenceWarning: lbfgs failed to converge (status=1):\n",
      "STOP: TOTAL NO. of ITERATIONS REACHED LIMIT.\n",
      "\n",
      "Increase the number of iterations (max_iter) or scale the data as shown in:\n",
      "    https://scikit-learn.org/stable/modules/preprocessing.html\n",
      "Please also refer to the documentation for alternative solver options:\n",
      "    https://scikit-learn.org/stable/modules/linear_model.html#logistic-regression\n",
      "  extra_warning_msg=_LOGISTIC_SOLVER_CONVERGENCE_MSG)\n",
      "D:\\ProgramData\\Anaconda3\\lib\\site-packages\\sklearn\\linear_model\\_logistic.py:940: ConvergenceWarning: lbfgs failed to converge (status=1):\n",
      "STOP: TOTAL NO. of ITERATIONS REACHED LIMIT.\n",
      "\n",
      "Increase the number of iterations (max_iter) or scale the data as shown in:\n",
      "    https://scikit-learn.org/stable/modules/preprocessing.html\n",
      "Please also refer to the documentation for alternative solver options:\n",
      "    https://scikit-learn.org/stable/modules/linear_model.html#logistic-regression\n",
      "  extra_warning_msg=_LOGISTIC_SOLVER_CONVERGENCE_MSG)\n"
     ]
    },
    {
     "name": "stderr",
     "output_type": "stream",
     "text": [
      "D:\\ProgramData\\Anaconda3\\lib\\site-packages\\sklearn\\linear_model\\_logistic.py:940: ConvergenceWarning: lbfgs failed to converge (status=1):\n",
      "STOP: TOTAL NO. of ITERATIONS REACHED LIMIT.\n",
      "\n",
      "Increase the number of iterations (max_iter) or scale the data as shown in:\n",
      "    https://scikit-learn.org/stable/modules/preprocessing.html\n",
      "Please also refer to the documentation for alternative solver options:\n",
      "    https://scikit-learn.org/stable/modules/linear_model.html#logistic-regression\n",
      "  extra_warning_msg=_LOGISTIC_SOLVER_CONVERGENCE_MSG)\n",
      "D:\\ProgramData\\Anaconda3\\lib\\site-packages\\sklearn\\linear_model\\_logistic.py:940: ConvergenceWarning: lbfgs failed to converge (status=1):\n",
      "STOP: TOTAL NO. of ITERATIONS REACHED LIMIT.\n",
      "\n",
      "Increase the number of iterations (max_iter) or scale the data as shown in:\n",
      "    https://scikit-learn.org/stable/modules/preprocessing.html\n",
      "Please also refer to the documentation for alternative solver options:\n",
      "    https://scikit-learn.org/stable/modules/linear_model.html#logistic-regression\n",
      "  extra_warning_msg=_LOGISTIC_SOLVER_CONVERGENCE_MSG)\n",
      "D:\\ProgramData\\Anaconda3\\lib\\site-packages\\sklearn\\linear_model\\_logistic.py:940: ConvergenceWarning: lbfgs failed to converge (status=1):\n",
      "STOP: TOTAL NO. of ITERATIONS REACHED LIMIT.\n",
      "\n",
      "Increase the number of iterations (max_iter) or scale the data as shown in:\n",
      "    https://scikit-learn.org/stable/modules/preprocessing.html\n",
      "Please also refer to the documentation for alternative solver options:\n",
      "    https://scikit-learn.org/stable/modules/linear_model.html#logistic-regression\n",
      "  extra_warning_msg=_LOGISTIC_SOLVER_CONVERGENCE_MSG)\n",
      "D:\\ProgramData\\Anaconda3\\lib\\site-packages\\sklearn\\linear_model\\_logistic.py:940: ConvergenceWarning: lbfgs failed to converge (status=1):\n",
      "STOP: TOTAL NO. of ITERATIONS REACHED LIMIT.\n",
      "\n",
      "Increase the number of iterations (max_iter) or scale the data as shown in:\n",
      "    https://scikit-learn.org/stable/modules/preprocessing.html\n",
      "Please also refer to the documentation for alternative solver options:\n",
      "    https://scikit-learn.org/stable/modules/linear_model.html#logistic-regression\n",
      "  extra_warning_msg=_LOGISTIC_SOLVER_CONVERGENCE_MSG)\n",
      "D:\\ProgramData\\Anaconda3\\lib\\site-packages\\sklearn\\linear_model\\_logistic.py:940: ConvergenceWarning: lbfgs failed to converge (status=1):\n",
      "STOP: TOTAL NO. of ITERATIONS REACHED LIMIT.\n",
      "\n",
      "Increase the number of iterations (max_iter) or scale the data as shown in:\n",
      "    https://scikit-learn.org/stable/modules/preprocessing.html\n",
      "Please also refer to the documentation for alternative solver options:\n",
      "    https://scikit-learn.org/stable/modules/linear_model.html#logistic-regression\n",
      "  extra_warning_msg=_LOGISTIC_SOLVER_CONVERGENCE_MSG)\n",
      "D:\\ProgramData\\Anaconda3\\lib\\site-packages\\sklearn\\linear_model\\_logistic.py:940: ConvergenceWarning: lbfgs failed to converge (status=1):\n",
      "STOP: TOTAL NO. of ITERATIONS REACHED LIMIT.\n",
      "\n",
      "Increase the number of iterations (max_iter) or scale the data as shown in:\n",
      "    https://scikit-learn.org/stable/modules/preprocessing.html\n",
      "Please also refer to the documentation for alternative solver options:\n",
      "    https://scikit-learn.org/stable/modules/linear_model.html#logistic-regression\n",
      "  extra_warning_msg=_LOGISTIC_SOLVER_CONVERGENCE_MSG)\n"
     ]
    },
    {
     "data": {
      "text/plain": [
       "GridSearchCV(cv=None, error_score=nan,\n",
       "             estimator=Pipeline(memory=None,\n",
       "                                steps=[('poly',\n",
       "                                        PolynomialFeatures(degree=2,\n",
       "                                                           include_bias=True,\n",
       "                                                           interaction_only=False,\n",
       "                                                           order='C')),\n",
       "                                       ('std',\n",
       "                                        StandardScaler(copy=True,\n",
       "                                                       with_mean=True,\n",
       "                                                       with_std=True)),\n",
       "                                       ('log_reg',\n",
       "                                        LogisticRegression(C=1.0,\n",
       "                                                           class_weight=None,\n",
       "                                                           dual=False,\n",
       "                                                           fit_intercept=True,\n",
       "                                                           intercept_scaling=1,\n",
       "                                                           l1_ratio=None,\n",
       "                                                           max_iter=100,\n",
       "                                                           multi_class='auto',\n",
       "                                                           n_jobs=None,\n",
       "                                                           penalty='l2',\n",
       "                                                           random_state=None,\n",
       "                                                           solver='lbfgs',\n",
       "                                                           tol=0.0001,\n",
       "                                                           verbose=0,\n",
       "                                                           warm_start=False))],\n",
       "                                verbose=False),\n",
       "             iid='deprecated', n_jobs=None,\n",
       "             param_grid={'log_reg__C': [0.001, 0.01, 0.1, 1, 10, 100, 1000],\n",
       "                         'poly__degree': [3, 4]},\n",
       "             pre_dispatch='2*n_jobs', refit=True, return_train_score=False,\n",
       "             scoring=None, verbose=0)"
      ]
     },
     "execution_count": 186,
     "metadata": {},
     "output_type": "execute_result"
    }
   ],
   "source": [
    "from sklearn.model_selection import GridSearchCV\n",
    "\n",
    "log_reg_c = [0.001, 0.01, 0.1, 1, 10, 100, 1000]\n",
    "param_grid = {\n",
    "            'poly__degree': [i for i in range(3, 5)],   \n",
    "            'log_reg__C': log_reg_c\n",
    "        }\n",
    "\n",
    "grid_search = GridSearchCV(PolynomialLogisticRegression(), param_grid)\n",
    "grid_search.fit(X_train, y_train)"
   ]
  },
  {
   "cell_type": "code",
   "execution_count": 187,
   "metadata": {},
   "outputs": [
    {
     "data": {
      "text/plain": [
       "0.7491088096151387"
      ]
     },
     "execution_count": 187,
     "metadata": {},
     "output_type": "execute_result"
    }
   ],
   "source": [
    "grid_search.best_score_"
   ]
  },
  {
   "cell_type": "code",
   "execution_count": 188,
   "metadata": {},
   "outputs": [
    {
     "data": {
      "text/plain": [
       "{'log_reg__C': 0.001, 'poly__degree': 3}"
      ]
     },
     "execution_count": 188,
     "metadata": {},
     "output_type": "execute_result"
    }
   ],
   "source": [
    "grid_search.best_params_"
   ]
  },
  {
   "cell_type": "code",
   "execution_count": 189,
   "metadata": {},
   "outputs": [],
   "source": [
    "def LogisticRegressionV2(C=1.0):\n",
    "    return Pipeline([\n",
    "        ('std', StandardScaler()),\n",
    "        ('log_reg', LogisticRegression(C=C))\n",
    "    ])"
   ]
  },
  {
   "cell_type": "code",
   "execution_count": 190,
   "metadata": {},
   "outputs": [
    {
     "data": {
      "text/plain": [
       "GridSearchCV(cv=None, error_score=nan,\n",
       "             estimator=Pipeline(memory=None,\n",
       "                                steps=[('std',\n",
       "                                        StandardScaler(copy=True,\n",
       "                                                       with_mean=True,\n",
       "                                                       with_std=True)),\n",
       "                                       ('log_reg',\n",
       "                                        LogisticRegression(C=1.0,\n",
       "                                                           class_weight=None,\n",
       "                                                           dual=False,\n",
       "                                                           fit_intercept=True,\n",
       "                                                           intercept_scaling=1,\n",
       "                                                           l1_ratio=None,\n",
       "                                                           max_iter=100,\n",
       "                                                           multi_class='auto',\n",
       "                                                           n_jobs=None,\n",
       "                                                           penalty='l2',\n",
       "                                                           random_state=None,\n",
       "                                                           solver='lbfgs',\n",
       "                                                           tol=0.0001,\n",
       "                                                           verbose=0,\n",
       "                                                           warm_start=False))],\n",
       "                                verbose=False),\n",
       "             iid='deprecated', n_jobs=None,\n",
       "             param_grid={'log_reg__C': [0.001, 0.01, 0.1, 1, 10, 100, 1000]},\n",
       "             pre_dispatch='2*n_jobs', refit=True, return_train_score=False,\n",
       "             scoring=None, verbose=0)"
      ]
     },
     "execution_count": 190,
     "metadata": {},
     "output_type": "execute_result"
    }
   ],
   "source": [
    "log_reg_c = [0.001, 0.01, 0.1, 1, 10, 100, 1000]\n",
    "param_grid = {\n",
    "            'log_reg__C': log_reg_c\n",
    "        }\n",
    "grid_search = GridSearchCV(LogisticRegressionV2(), param_grid)\n",
    "grid_search.fit(X_train, y_train)"
   ]
  },
  {
   "cell_type": "code",
   "execution_count": 191,
   "metadata": {},
   "outputs": [
    {
     "data": {
      "text/plain": [
       "0.7501253036696075"
      ]
     },
     "execution_count": 191,
     "metadata": {},
     "output_type": "execute_result"
    }
   ],
   "source": [
    "grid_search.best_score_"
   ]
  },
  {
   "cell_type": "code",
   "execution_count": 192,
   "metadata": {},
   "outputs": [
    {
     "data": {
      "text/plain": [
       "{'log_reg__C': 10}"
      ]
     },
     "execution_count": 192,
     "metadata": {},
     "output_type": "execute_result"
    }
   ],
   "source": [
    "grid_search.best_params_"
   ]
  },
  {
   "cell_type": "code",
   "execution_count": 213,
   "metadata": {},
   "outputs": [
    {
     "data": {
      "text/plain": [
       "Pipeline(memory=None,\n",
       "         steps=[('std',\n",
       "                 StandardScaler(copy=True, with_mean=True, with_std=True)),\n",
       "                ('log_reg',\n",
       "                 LogisticRegression(C=10, class_weight=None, dual=False,\n",
       "                                    fit_intercept=True, intercept_scaling=1,\n",
       "                                    l1_ratio=None, max_iter=100,\n",
       "                                    multi_class='auto', n_jobs=None,\n",
       "                                    penalty='l2', random_state=None,\n",
       "                                    solver='lbfgs', tol=0.0001, verbose=0,\n",
       "                                    warm_start=False))],\n",
       "         verbose=False)"
      ]
     },
     "execution_count": 213,
     "metadata": {},
     "output_type": "execute_result"
    }
   ],
   "source": [
    "grid_search.best_estimator_"
   ]
  },
  {
   "cell_type": "code",
   "execution_count": 219,
   "metadata": {},
   "outputs": [
    {
     "data": {
      "text/plain": [
       "0.7761806981519507"
      ]
     },
     "execution_count": 219,
     "metadata": {},
     "output_type": "execute_result"
    }
   ],
   "source": [
    "grid_search.best_estimator_.score(X_test_standard,y_test)"
   ]
  },
  {
   "cell_type": "code",
   "execution_count": 193,
   "metadata": {},
   "outputs": [
    {
     "data": {
      "text/plain": [
       "0.7761806981519507"
      ]
     },
     "execution_count": 193,
     "metadata": {},
     "output_type": "execute_result"
    }
   ],
   "source": [
    "lr = LogisticRegression(C=1000,random_state=666)\n",
    "lr.fit(X_train_standard,y_train)\n",
    "lr.score(X_test_standard,y_test) # 输出一个正确率"
   ]
  },
  {
   "cell_type": "code",
   "execution_count": 194,
   "metadata": {},
   "outputs": [
    {
     "data": {
      "text/plain": [
       "0.7761806981519507"
      ]
     },
     "execution_count": 194,
     "metadata": {},
     "output_type": "execute_result"
    }
   ],
   "source": [
    "lr = LogisticRegression(C=10,random_state=666)\n",
    "lr.fit(X_train_standard,y_train)\n",
    "lr.score(X_test_standard,y_test) # 输出一个正确率"
   ]
  },
  {
   "cell_type": "code",
   "execution_count": 195,
   "metadata": {},
   "outputs": [
    {
     "data": {
      "text/plain": [
       "0.7761806981519507"
      ]
     },
     "execution_count": 195,
     "metadata": {},
     "output_type": "execute_result"
    }
   ],
   "source": [
    "lr = LogisticRegression(C=1,random_state=666)\n",
    "lr.fit(X_train_standard,y_train)\n",
    "lr.score(X_test_standard,y_test) # 输出一个正确率"
   ]
  },
  {
   "cell_type": "code",
   "execution_count": 196,
   "metadata": {},
   "outputs": [
    {
     "data": {
      "text/plain": [
       "(974, 40)"
      ]
     },
     "execution_count": 196,
     "metadata": {},
     "output_type": "execute_result"
    }
   ],
   "source": [
    "X_test_standard.shape"
   ]
  },
  {
   "cell_type": "code",
   "execution_count": 198,
   "metadata": {},
   "outputs": [
    {
     "data": {
      "text/plain": [
       "(1977, 40)"
      ]
     },
     "execution_count": 198,
     "metadata": {},
     "output_type": "execute_result"
    }
   ],
   "source": [
    "X_train_standard.shape"
   ]
  },
  {
   "cell_type": "code",
   "execution_count": 199,
   "metadata": {},
   "outputs": [
    {
     "data": {
      "text/plain": [
       "(974,)"
      ]
     },
     "execution_count": 199,
     "metadata": {},
     "output_type": "execute_result"
    }
   ],
   "source": [
    "y_test.shape"
   ]
  },
  {
   "cell_type": "code",
   "execution_count": 200,
   "metadata": {},
   "outputs": [
    {
     "data": {
      "text/plain": [
       "(1977,)"
      ]
     },
     "execution_count": 200,
     "metadata": {},
     "output_type": "execute_result"
    }
   ],
   "source": [
    "y_train.shape"
   ]
  },
  {
   "cell_type": "code",
   "execution_count": 201,
   "metadata": {},
   "outputs": [
    {
     "data": {
      "text/plain": [
       "(1977, 40)"
      ]
     },
     "execution_count": 201,
     "metadata": {},
     "output_type": "execute_result"
    }
   ],
   "source": [
    "X_train_standard.shape"
   ]
  },
  {
   "cell_type": "code",
   "execution_count": 202,
   "metadata": {},
   "outputs": [
    {
     "data": {
      "text/plain": [
       "(974, 40)"
      ]
     },
     "execution_count": 202,
     "metadata": {},
     "output_type": "execute_result"
    }
   ],
   "source": [
    "X_test_standard.shape"
   ]
  },
  {
   "cell_type": "code",
   "execution_count": 203,
   "metadata": {},
   "outputs": [
    {
     "data": {
      "text/plain": [
       "array([[-6.14220336e-01, -4.96945002e-01, -8.18779802e-01, ...,\n",
       "         5.35846060e-01,  1.17558565e-03, -7.65124725e-01],\n",
       "       [ 3.12828611e-01,  1.95458619e-01, -1.32002009e+00, ...,\n",
       "         7.30225447e-01,  1.17558565e-03,  3.45594568e-01],\n",
       "       [ 1.28623001e+00,  1.21098393e+00,  1.96588847e+00, ...,\n",
       "        -4.72921018e-02, -1.51623345e+00, -1.13536449e+00],\n",
       "       ...,\n",
       "       [-1.07774481e+00, -1.00470766e+00, -9.30166533e-01, ...,\n",
       "        -3.71257747e-01,  1.17558565e-03, -3.94884961e-01],\n",
       "       [-5.79909678e-02,  1.08176537e-02, -7.63086437e-01, ...,\n",
       "         7.95018576e-01,  1.17558565e-03,  3.45594568e-01],\n",
       "       [-6.14220336e-01, -7.27746209e-01, -7.63086437e-01, ...,\n",
       "         5.35846060e-01,  1.17558565e-03, -3.94884961e-01]])"
      ]
     },
     "execution_count": 203,
     "metadata": {},
     "output_type": "execute_result"
    }
   ],
   "source": [
    "X_train_standard"
   ]
  },
  {
   "cell_type": "code",
   "execution_count": 204,
   "metadata": {},
   "outputs": [
    {
     "data": {
      "text/plain": [
       "array([[15.  , 18.  , 13.1 , ..., 34.8 ,  3.19, 13.  ],\n",
       "       [35.  , 33.  , 12.2 , ..., 35.1 ,  3.19, 16.  ],\n",
       "       [56.  , 55.  , 18.1 , ..., 33.9 ,  2.4 , 12.  ],\n",
       "       ...,\n",
       "       [ 5.  ,  7.  , 12.9 , ..., 33.4 ,  3.19, 14.  ],\n",
       "       [27.  , 29.  , 13.2 , ..., 35.2 ,  3.19, 16.  ],\n",
       "       [15.  , 13.  , 13.2 , ..., 34.8 ,  3.19, 14.  ]])"
      ]
     },
     "execution_count": 204,
     "metadata": {},
     "output_type": "execute_result"
    }
   ],
   "source": [
    "X_train"
   ]
  },
  {
   "cell_type": "code",
   "execution_count": 211,
   "metadata": {},
   "outputs": [
    {
     "data": {
      "text/plain": [
       "0.7761806981519507"
      ]
     },
     "execution_count": 211,
     "metadata": {},
     "output_type": "execute_result"
    }
   ],
   "source": [
    "lr = LogisticRegression()\n",
    "lr.fit(X_train_standard,y_train)\n",
    "lr.score(X_test_standard,y_test) # 输出一个正确率"
   ]
  },
  {
   "cell_type": "code",
   "execution_count": 212,
   "metadata": {},
   "outputs": [
    {
     "data": {
      "text/plain": [
       "0.7592311583206879"
      ]
     },
     "execution_count": 212,
     "metadata": {},
     "output_type": "execute_result"
    }
   ],
   "source": [
    "lr.score(X_train_standard, y_train)"
   ]
  },
  {
   "cell_type": "code",
   "execution_count": 215,
   "metadata": {},
   "outputs": [
    {
     "data": {
      "text/plain": [
       "GridSearchCV(cv=None, error_score=nan,\n",
       "             estimator=LogisticRegression(C=1.0, class_weight=None, dual=False,\n",
       "                                          fit_intercept=True,\n",
       "                                          intercept_scaling=1, l1_ratio=None,\n",
       "                                          max_iter=100, multi_class='auto',\n",
       "                                          n_jobs=None, penalty='l2',\n",
       "                                          random_state=None, solver='lbfgs',\n",
       "                                          tol=0.0001, verbose=0,\n",
       "                                          warm_start=False),\n",
       "             iid='deprecated', n_jobs=None,\n",
       "             param_grid={'C': [0.001, 0.01, 0.1, 1, 10, 100, 1000]},\n",
       "             pre_dispatch='2*n_jobs', refit=True, return_train_score=False,\n",
       "             scoring=None, verbose=0)"
      ]
     },
     "execution_count": 215,
     "metadata": {},
     "output_type": "execute_result"
    }
   ],
   "source": [
    "log_reg_c = [0.001, 0.01, 0.1, 1, 10, 100, 1000]\n",
    "param_grid = {\n",
    "            'C': log_reg_c\n",
    "        }\n",
    "grid_search = GridSearchCV(LogisticRegression(), param_grid)\n",
    "grid_search.fit(X_train_standard, y_train)"
   ]
  },
  {
   "cell_type": "code",
   "execution_count": 216,
   "metadata": {},
   "outputs": [
    {
     "data": {
      "text/plain": [
       "0.7501253036696075"
      ]
     },
     "execution_count": 216,
     "metadata": {},
     "output_type": "execute_result"
    }
   ],
   "source": [
    "grid_search.best_score_"
   ]
  },
  {
   "cell_type": "code",
   "execution_count": 217,
   "metadata": {},
   "outputs": [
    {
     "data": {
      "text/plain": [
       "{'C': 10}"
      ]
     },
     "execution_count": 217,
     "metadata": {},
     "output_type": "execute_result"
    }
   ],
   "source": [
    "grid_search.best_params_"
   ]
  },
  {
   "cell_type": "code",
   "execution_count": 218,
   "metadata": {},
   "outputs": [
    {
     "data": {
      "text/plain": [
       "0.7761806981519507"
      ]
     },
     "execution_count": 218,
     "metadata": {},
     "output_type": "execute_result"
    }
   ],
   "source": [
    "grid_search.best_estimator_.score(X_test_standard,y_test)"
   ]
  },
  {
   "cell_type": "code",
   "execution_count": 243,
   "metadata": {},
   "outputs": [
    {
     "name": "stderr",
     "output_type": "stream",
     "text": [
      "D:\\ProgramData\\Anaconda3\\lib\\site-packages\\sklearn\\model_selection\\_validation.py:536: FitFailedWarning: Estimator fit failed. The score on this train-test partition for these parameters will be set to nan. Details: \n",
      "ValueError: Solver lbfgs supports only 'l2' or 'none' penalties, got l1 penalty.\n",
      "\n",
      "  FitFailedWarning)\n",
      "D:\\ProgramData\\Anaconda3\\lib\\site-packages\\sklearn\\model_selection\\_validation.py:536: FitFailedWarning: Estimator fit failed. The score on this train-test partition for these parameters will be set to nan. Details: \n",
      "ValueError: Solver lbfgs supports only 'l2' or 'none' penalties, got l1 penalty.\n",
      "\n",
      "  FitFailedWarning)\n",
      "D:\\ProgramData\\Anaconda3\\lib\\site-packages\\sklearn\\model_selection\\_validation.py:536: FitFailedWarning: Estimator fit failed. The score on this train-test partition for these parameters will be set to nan. Details: \n",
      "ValueError: Solver lbfgs supports only 'l2' or 'none' penalties, got l1 penalty.\n",
      "\n",
      "  FitFailedWarning)\n",
      "D:\\ProgramData\\Anaconda3\\lib\\site-packages\\sklearn\\model_selection\\_validation.py:536: FitFailedWarning: Estimator fit failed. The score on this train-test partition for these parameters will be set to nan. Details: \n",
      "ValueError: Solver lbfgs supports only 'l2' or 'none' penalties, got l1 penalty.\n",
      "\n",
      "  FitFailedWarning)\n",
      "D:\\ProgramData\\Anaconda3\\lib\\site-packages\\sklearn\\model_selection\\_validation.py:536: FitFailedWarning: Estimator fit failed. The score on this train-test partition for these parameters will be set to nan. Details: \n",
      "ValueError: Solver lbfgs supports only 'l2' or 'none' penalties, got l1 penalty.\n",
      "\n",
      "  FitFailedWarning)\n",
      "D:\\ProgramData\\Anaconda3\\lib\\site-packages\\sklearn\\model_selection\\_validation.py:536: FitFailedWarning: Estimator fit failed. The score on this train-test partition for these parameters will be set to nan. Details: \n",
      "ValueError: Solver lbfgs supports only 'l2' or 'none' penalties, got l1 penalty.\n",
      "\n",
      "  FitFailedWarning)\n",
      "D:\\ProgramData\\Anaconda3\\lib\\site-packages\\sklearn\\model_selection\\_validation.py:536: FitFailedWarning: Estimator fit failed. The score on this train-test partition for these parameters will be set to nan. Details: \n",
      "ValueError: Solver lbfgs supports only 'l2' or 'none' penalties, got l1 penalty.\n",
      "\n",
      "  FitFailedWarning)\n"
     ]
    },
    {
     "data": {
      "text/plain": [
       "GridSearchCV(cv=5, error_score=nan,\n",
       "             estimator=LogisticRegression(C=1.0, class_weight=None, dual=False,\n",
       "                                          fit_intercept=True,\n",
       "                                          intercept_scaling=1, l1_ratio=None,\n",
       "                                          max_iter=100, multi_class='auto',\n",
       "                                          n_jobs=None, penalty='l2',\n",
       "                                          random_state=None, solver='lbfgs',\n",
       "                                          tol=0.0001, verbose=0,\n",
       "                                          warm_start=False),\n",
       "             iid='deprecated', n_jobs=None,\n",
       "             param_grid={'C': [0.001, 0.01, 0.1, 1, 10, 100, 1000],\n",
       "                         'penalty': ['l1', 'l2']},\n",
       "             pre_dispatch='2*n_jobs', refit=True, return_train_score=False,\n",
       "             scoring=None, verbose=0)"
      ]
     },
     "execution_count": 243,
     "metadata": {},
     "output_type": "execute_result"
    }
   ],
   "source": [
    "penaltys = ['l1','l2']\n",
    "Cs = [0.001, 0.01, 0.1, 1, 10, 100, 1000]\n",
    "tuned_parameters = dict(penalty = penaltys, C = Cs)\n",
    " \n",
    "grid_search_2 = GridSearchCV(LogisticRegression(), tuned_parameters,cv=5)\n",
    "grid_search_2.fit(X_train_standard, y_train)"
   ]
  },
  {
   "cell_type": "code",
   "execution_count": 244,
   "metadata": {},
   "outputs": [
    {
     "data": {
      "text/plain": [
       "0.7501253036696075"
      ]
     },
     "execution_count": 244,
     "metadata": {},
     "output_type": "execute_result"
    }
   ],
   "source": [
    "grid_search_2.best_score_"
   ]
  },
  {
   "cell_type": "code",
   "execution_count": 245,
   "metadata": {},
   "outputs": [
    {
     "data": {
      "text/plain": [
       "{'C': 10, 'penalty': 'l2'}"
      ]
     },
     "execution_count": 245,
     "metadata": {},
     "output_type": "execute_result"
    }
   ],
   "source": [
    "grid_search_2.best_params_"
   ]
  },
  {
   "cell_type": "code",
   "execution_count": 247,
   "metadata": {},
   "outputs": [
    {
     "data": {
      "text/plain": [
       "0.7761806981519507"
      ]
     },
     "execution_count": 247,
     "metadata": {},
     "output_type": "execute_result"
    }
   ],
   "source": [
    "grid_search_2.best_estimator_.score(X_test_standard, y_test)"
   ]
  },
  {
   "cell_type": "code",
   "execution_count": 231,
   "metadata": {},
   "outputs": [],
   "source": [
    "from sklearn.linear_model import LogisticRegression\n",
    "from sklearn.svm import SVC\n",
    "from sklearn.tree import DecisionTreeClassifier\n",
    "from sklearn.ensemble import VotingClassifier"
   ]
  },
  {
   "cell_type": "code",
   "execution_count": 248,
   "metadata": {},
   "outputs": [
    {
     "data": {
      "text/plain": [
       "GridSearchCV(cv=None, error_score=nan,\n",
       "             estimator=SVC(C=1.0, break_ties=False, cache_size=200,\n",
       "                           class_weight=None, coef0=0.0,\n",
       "                           decision_function_shape='ovr', degree=3,\n",
       "                           gamma='scale', kernel='rbf', max_iter=-1,\n",
       "                           probability=False, random_state=None, shrinking=True,\n",
       "                           tol=0.001, verbose=False),\n",
       "             iid='deprecated', n_jobs=None,\n",
       "             param_grid={'C': array([0.5 , 0.51, 0.52, 0.53, 0.54, 0.5...\n",
       "       0.94, 0.95, 0.96, 0.97, 0.98, 0.99, 1.  , 1.01, 1.02, 1.03, 1.04,\n",
       "       1.05, 1.06, 1.07, 1.08, 1.09, 1.1 , 1.11, 1.12, 1.13, 1.14, 1.15,\n",
       "       1.16, 1.17, 1.18, 1.19, 1.2 , 1.21, 1.22, 1.23, 1.24, 1.25, 1.26,\n",
       "       1.27, 1.28, 1.29, 1.3 , 1.31, 1.32, 1.33, 1.34, 1.35, 1.36, 1.37,\n",
       "       1.38, 1.39, 1.4 , 1.41, 1.42, 1.43, 1.44, 1.45, 1.46, 1.47, 1.48,\n",
       "       1.49]),\n",
       "                         'kernel': ('linear', 'rbf')},\n",
       "             pre_dispatch='2*n_jobs', refit=True, return_train_score=False,\n",
       "             scoring=None, verbose=0)"
      ]
     },
     "execution_count": 248,
     "metadata": {},
     "output_type": "execute_result"
    }
   ],
   "source": [
    "#param_grid={'gamma':np.linspace(0, 0.001, 100)}\n",
    "param_grid = {\n",
    "    'kernel': ('linear', 'rbf'),\n",
    "    'C': np.arange(0.5, 1.5, 0.01)\n",
    "}\n",
    "grid_search_3 = GridSearchCV(SVC(), param_grid)\n",
    "grid_search_3.fit(X_train_standard, y_train)"
   ]
  },
  {
   "cell_type": "code",
   "execution_count": 249,
   "metadata": {},
   "outputs": [
    {
     "data": {
      "text/plain": [
       "0.7622618590973022"
      ]
     },
     "execution_count": 249,
     "metadata": {},
     "output_type": "execute_result"
    }
   ],
   "source": [
    "grid_search_3.best_score_"
   ]
  },
  {
   "cell_type": "code",
   "execution_count": 250,
   "metadata": {},
   "outputs": [
    {
     "data": {
      "text/plain": [
       "{'C': 1.0400000000000005, 'kernel': 'rbf'}"
      ]
     },
     "execution_count": 250,
     "metadata": {},
     "output_type": "execute_result"
    }
   ],
   "source": [
    "grid_search_3.best_params_"
   ]
  },
  {
   "cell_type": "code",
   "execution_count": 251,
   "metadata": {},
   "outputs": [
    {
     "data": {
      "text/plain": [
       "0.7792607802874744"
      ]
     },
     "execution_count": 251,
     "metadata": {},
     "output_type": "execute_result"
    }
   ],
   "source": [
    "grid_search_3.best_estimator_.score(X_test_standard, y_test)"
   ]
  },
  {
   "cell_type": "code",
   "execution_count": 252,
   "metadata": {},
   "outputs": [
    {
     "name": "stdout",
     "output_type": "stream",
     "text": [
      "Wall time: 1.15 s\n"
     ]
    },
    {
     "data": {
      "text/plain": [
       "GridSearchCV(cv=None, error_score=nan,\n",
       "             estimator=DecisionTreeClassifier(ccp_alpha=0.0, class_weight=None,\n",
       "                                              criterion='gini', max_depth=None,\n",
       "                                              max_features=None,\n",
       "                                              max_leaf_nodes=None,\n",
       "                                              min_impurity_decrease=0.0,\n",
       "                                              min_impurity_split=None,\n",
       "                                              min_samples_leaf=1,\n",
       "                                              min_samples_split=2,\n",
       "                                              min_weight_fraction_leaf=0.0,\n",
       "                                              presort='deprecated',\n",
       "                                              random_state=None,\n",
       "                                              splitter='best'),\n",
       "             iid='deprecated', n_jobs=None,\n",
       "             param_grid={'criterion': ['gini', 'entropy'],\n",
       "                         'max_depth': array([1, 2, 3, 4, 5, 6, 7, 8, 9])},\n",
       "             pre_dispatch='2*n_jobs', refit=True, return_train_score=False,\n",
       "             scoring=None, verbose=0)"
      ]
     },
     "execution_count": 252,
     "metadata": {},
     "output_type": "execute_result"
    }
   ],
   "source": [
    "%%time\n",
    "param_grid ={\n",
    "            'criterion':['gini','entropy'],\n",
    "            'max_depth':np.arange(1, 10, 1)\n",
    "            }\n",
    "grid_search_4 = GridSearchCV(DecisionTreeClassifier(), param_grid)\n",
    "grid_search_4.fit(X_train_standard, y_train)"
   ]
  },
  {
   "cell_type": "code",
   "execution_count": 253,
   "metadata": {},
   "outputs": [
    {
     "data": {
      "text/plain": [
       "0.7177445339470656"
      ]
     },
     "execution_count": 253,
     "metadata": {},
     "output_type": "execute_result"
    }
   ],
   "source": [
    "grid_search_4.best_score_"
   ]
  },
  {
   "cell_type": "code",
   "execution_count": 254,
   "metadata": {},
   "outputs": [
    {
     "data": {
      "text/plain": [
       "{'criterion': 'entropy', 'max_depth': 4}"
      ]
     },
     "execution_count": 254,
     "metadata": {},
     "output_type": "execute_result"
    }
   ],
   "source": [
    "grid_search_4.best_params_"
   ]
  },
  {
   "cell_type": "code",
   "execution_count": 255,
   "metadata": {},
   "outputs": [
    {
     "data": {
      "text/plain": [
       "0.731006160164271"
      ]
     },
     "execution_count": 255,
     "metadata": {},
     "output_type": "execute_result"
    }
   ],
   "source": [
    "grid_search_4.best_estimator_.score(X_test_standard, y_test)"
   ]
  },
  {
   "cell_type": "code",
   "execution_count": 256,
   "metadata": {},
   "outputs": [],
   "source": [
    "vt_clf = VotingClassifier([\n",
    "    ('log_clf', grid_search_2.best_estimator_),\n",
    "    ('svc_clf', SVC(C=1.0400000000000005, kernel='rbf',probability=True)),\n",
    "    ('dt_clf', grid_search_4.best_estimator_)],\n",
    "    voting='soft'\n",
    ")"
   ]
  },
  {
   "cell_type": "code",
   "execution_count": 257,
   "metadata": {},
   "outputs": [
    {
     "data": {
      "text/plain": [
       "0.7782340862422998"
      ]
     },
     "execution_count": 257,
     "metadata": {},
     "output_type": "execute_result"
    }
   ],
   "source": [
    "vt_clf.fit(X_train_standard, y_train)\n",
    "vt_clf.score(X_test_standard, y_test)"
   ]
  },
  {
   "cell_type": "code",
   "execution_count": 258,
   "metadata": {},
   "outputs": [
    {
     "data": {
      "text/plain": [
       "array([1., 1., 1., 1., 0., 0., 1., 1., 0., 1., 0., 1., 1., 1., 1., 1., 1.,\n",
       "       0., 1., 0., 1., 1., 0., 1., 1., 0., 0., 1., 0., 1., 1., 1., 1., 0.,\n",
       "       0., 0., 0., 0., 0., 1., 0., 1., 1., 0., 0., 1., 0., 1., 0., 1., 1.,\n",
       "       1., 0., 0., 1., 0., 0., 0., 1., 1., 1., 1., 1., 0., 1., 1., 1., 1.,\n",
       "       0., 0., 1., 1., 1., 0., 0., 0., 1., 0., 1., 0., 1., 1., 1., 0., 0.,\n",
       "       1., 0., 0., 1., 0., 1., 0., 1., 1., 0., 0., 1., 1., 0., 0., 0., 1.,\n",
       "       0., 0., 0., 0., 1., 0., 1., 1., 0., 1., 0., 1., 1., 1., 1., 1., 1.,\n",
       "       0., 0., 0., 1., 0., 0., 0., 0., 1., 0., 0., 1., 0., 0., 1., 1., 0.,\n",
       "       0., 0., 1., 1., 0., 0., 1., 0., 0., 1., 0., 0., 1., 0., 1., 1., 0.,\n",
       "       0., 0., 0., 1., 1., 0., 1., 0., 1., 1., 0., 1., 1., 1., 0., 1., 1.,\n",
       "       1., 0., 0., 1., 1., 1., 0., 0., 1., 1., 1., 0., 0., 0., 1., 1., 1.,\n",
       "       1., 1., 1., 0., 1., 1., 0., 0., 1., 1., 1., 1., 0., 1., 1., 1., 1.,\n",
       "       1., 0., 1., 0., 1., 1., 0., 1., 0., 1., 0., 1., 1., 0., 0., 1., 0.,\n",
       "       0., 1., 0., 1., 0., 0., 0., 1., 0., 1., 0., 1., 0., 1., 0., 1., 0.,\n",
       "       0., 1., 1., 1., 0., 1., 0., 0., 0., 1., 0., 1., 1., 1., 0., 1., 0.,\n",
       "       1., 1., 0., 0., 0., 1., 0., 1., 1., 1., 1., 1., 1., 1., 0., 1., 1.,\n",
       "       1., 1., 1., 0., 1., 1., 1., 1., 1., 1., 1., 0., 1., 0., 1., 1., 1.,\n",
       "       0., 1., 0., 0., 0., 0., 1., 0., 1., 1., 1., 1., 1., 1., 1., 1., 0.,\n",
       "       1., 0., 0., 1., 1., 1., 1., 0., 1., 0., 0., 1., 0., 0., 0., 1., 1.,\n",
       "       1., 1., 0., 1., 1., 1., 0., 1., 0., 1., 1., 0., 1., 0., 0., 1., 1.,\n",
       "       1., 1., 1., 1., 1., 1., 0., 0., 0., 1., 1., 1., 1., 1., 1., 0., 1.,\n",
       "       0., 1., 0., 0., 1., 1., 0., 1., 0., 0., 1., 0., 1., 0., 1., 1., 0.,\n",
       "       1., 0., 1., 0., 1., 0., 1., 0., 0., 0., 0., 1., 0., 1., 1., 0., 1.,\n",
       "       1., 1., 0., 0., 0., 0., 1., 1., 0., 1., 0., 0., 1., 0., 1., 1., 1.,\n",
       "       1., 1., 0., 1., 1., 0., 1., 0., 1., 1., 1., 1., 1., 0., 1., 0., 1.,\n",
       "       0., 1., 1., 1., 0., 1., 1., 0., 0., 0., 0., 1., 1., 1., 1., 0., 1.,\n",
       "       1., 0., 1., 0., 1., 1., 0., 1., 0., 0., 1., 0., 1., 1., 0., 0., 1.,\n",
       "       0., 0., 1., 1., 1., 1., 0., 1., 1., 1., 0., 0., 1., 1., 1., 0., 1.,\n",
       "       0., 0., 0., 1., 1., 0., 0., 1., 0., 1., 1., 0., 0., 1., 0., 0., 0.,\n",
       "       0., 0., 1., 1., 1., 1., 1., 1., 0., 0., 0., 1., 0., 1., 0., 1., 0.,\n",
       "       1., 0., 1., 0., 1., 1., 0., 0., 0., 0., 1., 0., 0., 0., 1., 0., 0.,\n",
       "       1., 1., 0., 1., 1., 0., 1., 0., 0., 0., 1., 0., 0., 0., 1., 1., 1.,\n",
       "       0., 1., 0., 1., 0., 1., 1., 1., 1., 0., 0., 0., 0., 1., 1., 0., 1.,\n",
       "       0., 0., 1., 0., 0., 1., 1., 1., 0., 0., 1., 1., 0., 1., 1., 0., 0.,\n",
       "       1., 0., 1., 1., 1., 1., 0., 0., 0., 1., 1., 1., 1., 0., 0., 1., 1.,\n",
       "       0., 0., 1., 0., 1., 0., 1., 0., 1., 1., 1., 1., 0., 0., 0., 1., 0.,\n",
       "       1., 1., 0., 0., 0., 1., 0., 1., 0., 1., 0., 1., 0., 1., 0., 0., 0.,\n",
       "       1., 1., 1., 1., 1., 1., 1., 1., 1., 0., 1., 1., 1., 1., 1., 0., 0.,\n",
       "       0., 1., 0., 1., 1., 1., 1., 0., 0., 0., 1., 1., 1., 1., 0., 0., 1.,\n",
       "       1., 1., 0., 0., 1., 0., 0., 0., 0., 0., 0., 1., 1., 0., 0., 1., 0.,\n",
       "       1., 0., 0., 0., 0., 0., 0., 1., 1., 1., 0., 1., 1., 1., 1., 0., 1.,\n",
       "       1., 1., 1., 1., 0., 0., 1., 1., 1., 0., 0., 1., 0., 0., 1., 0., 0.,\n",
       "       1., 1., 1., 1., 1., 1., 1., 1., 0., 0., 0., 1., 0., 0., 1., 0., 0.,\n",
       "       1., 1., 1., 1., 1., 0., 1., 0., 1., 0., 1., 1., 0., 0., 0., 1., 1.,\n",
       "       1., 1., 1., 1., 0., 0., 1., 1., 0., 0., 0., 1., 1., 1., 1., 0., 0.,\n",
       "       1., 0., 1., 1., 0., 1., 1., 1., 1., 0., 1., 1., 0., 0., 1., 1., 1.,\n",
       "       0., 1., 1., 0., 0., 1., 0., 0., 0., 1., 1., 0., 0., 1., 0., 0., 1.,\n",
       "       0., 1., 0., 1., 0., 1., 0., 0., 1., 1., 1., 0., 1., 0., 1., 1., 1.,\n",
       "       1., 1., 0., 0., 1., 0., 0., 1., 0., 0., 1., 1., 1., 1., 0., 1., 1.,\n",
       "       1., 0., 1., 0., 0., 0., 1., 0., 1., 0., 1., 0., 0., 0., 1., 1., 0.,\n",
       "       0., 0., 0., 0., 0., 0., 0., 1., 1., 0., 0., 1., 1., 1., 0., 1., 1.,\n",
       "       0., 0., 1., 0., 1., 1., 1., 0., 1., 0., 1., 1., 1., 0., 0., 0., 0.,\n",
       "       0., 0., 1., 0., 1., 0., 1., 1., 1., 1., 0., 1., 0., 0., 1., 1., 1.,\n",
       "       1., 0., 0., 1., 0., 1., 1., 0., 1., 0., 0., 0., 0., 0., 1., 1., 1.,\n",
       "       0., 0., 0., 1., 0., 0., 0., 0., 0., 1., 1., 0., 1., 1., 0., 1., 1.,\n",
       "       1., 0., 1., 0., 1., 0., 1., 0., 1., 1., 1., 0., 1., 1., 1., 1., 1.,\n",
       "       1., 0., 1., 0., 0., 1., 0., 0., 0., 0., 0., 1., 0., 0., 0., 1., 0.,\n",
       "       1., 1., 0., 1., 1.])"
      ]
     },
     "execution_count": 258,
     "metadata": {},
     "output_type": "execute_result"
    }
   ],
   "source": [
    "grid_search_3.best_estimator_.predict(X_test_standard)"
   ]
  },
  {
   "cell_type": "code",
   "execution_count": 259,
   "metadata": {},
   "outputs": [
    {
     "data": {
      "text/plain": [
       "array([0., 1., 1., 1., 0., 0., 1., 1., 0., 1., 0., 1., 1., 1., 1., 1., 1.,\n",
       "       1., 0., 1., 0., 1., 0., 1., 1., 0., 0., 1., 0., 1., 1., 1., 1., 0.,\n",
       "       0., 0., 0., 1., 0., 1., 0., 1., 1., 0., 0., 1., 0., 1., 0., 1., 0.,\n",
       "       1., 0., 0., 1., 0., 0., 0., 1., 1., 1., 1., 1., 0., 0., 0., 0., 1.,\n",
       "       0., 0., 1., 1., 0., 0., 1., 0., 0., 0., 1., 0., 1., 1., 1., 1., 0.,\n",
       "       0., 0., 0., 1., 0., 1., 0., 1., 1., 0., 0., 0., 0., 1., 1., 1., 1.,\n",
       "       0., 1., 0., 0., 1., 0., 1., 0., 0., 1., 0., 0., 1., 1., 1., 1., 1.,\n",
       "       1., 0., 0., 1., 0., 1., 0., 1., 1., 1., 0., 1., 0., 0., 1., 1., 0.,\n",
       "       0., 0., 1., 1., 1., 0., 1., 0., 0., 1., 0., 0., 1., 0., 1., 1., 0.,\n",
       "       0., 0., 0., 1., 0., 0., 1., 0., 1., 0., 0., 1., 1., 0., 0., 1., 1.,\n",
       "       1., 1., 0., 1., 1., 1., 0., 0., 1., 0., 0., 1., 0., 0., 1., 0., 1.,\n",
       "       0., 0., 0., 0., 1., 0., 0., 1., 1., 1., 1., 1., 0., 1., 0., 0., 1.,\n",
       "       1., 0., 1., 0., 1., 0., 0., 1., 0., 0., 0., 1., 1., 0., 0., 1., 0.,\n",
       "       1., 0., 1., 1., 1., 0., 0., 1., 0., 1., 0., 1., 1., 0., 0., 1., 0.,\n",
       "       0., 0., 1., 1., 0., 1., 0., 0., 0., 1., 1., 1., 1., 1., 0., 1., 0.,\n",
       "       1., 1., 0., 0., 0., 1., 0., 1., 0., 1., 0., 1., 0., 0., 0., 1., 0.,\n",
       "       1., 1., 1., 0., 1., 1., 1., 1., 1., 1., 1., 0., 1., 0., 0., 1., 1.,\n",
       "       0., 1., 0., 0., 0., 0., 1., 0., 1., 1., 1., 1., 0., 1., 1., 0., 0.,\n",
       "       1., 0., 0., 1., 1., 1., 1., 0., 0., 1., 0., 1., 0., 1., 0., 1., 1.,\n",
       "       0., 1., 0., 1., 1., 1., 0., 1., 0., 1., 1., 0., 1., 0., 0., 1., 1.,\n",
       "       0., 1., 0., 1., 1., 1., 0., 1., 0., 0., 1., 1., 1., 1., 0., 0., 1.,\n",
       "       0., 0., 0., 0., 1., 1., 0., 1., 0., 0., 0., 0., 1., 0., 1., 1., 0.,\n",
       "       1., 1., 1., 1., 0., 0., 0., 0., 1., 0., 0., 1., 0., 1., 1., 1., 1.,\n",
       "       1., 1., 0., 0., 0., 0., 1., 1., 0., 1., 0., 0., 1., 0., 1., 1., 1.,\n",
       "       1., 1., 1., 1., 1., 1., 1., 0., 1., 1., 0., 0., 1., 0., 1., 0., 0.,\n",
       "       0., 1., 0., 0., 0., 1., 1., 1., 0., 0., 1., 0., 1., 0., 1., 0., 1.,\n",
       "       1., 0., 1., 0., 1., 1., 0., 1., 0., 0., 0., 1., 0., 1., 0., 0., 1.,\n",
       "       0., 1., 1., 1., 1., 1., 0., 1., 1., 1., 0., 0., 1., 1., 1., 0., 1.,\n",
       "       0., 1., 0., 0., 1., 0., 0., 1., 1., 1., 0., 0., 0., 1., 0., 0., 0.,\n",
       "       0., 0., 1., 1., 1., 1., 1., 1., 0., 0., 0., 1., 0., 1., 0., 1., 0.,\n",
       "       1., 0., 0., 0., 0., 1., 0., 0., 0., 0., 1., 0., 1., 0., 1., 1., 0.,\n",
       "       1., 1., 1., 1., 1., 1., 0., 0., 0., 0., 1., 1., 0., 0., 0., 1., 1.,\n",
       "       0., 1., 0., 1., 0., 0., 1., 1., 1., 0., 0., 1., 0., 1., 0., 0., 1.,\n",
       "       0., 1., 1., 1., 1., 1., 1., 1., 0., 0., 1., 1., 1., 1., 0., 0., 0.,\n",
       "       0., 0., 1., 1., 1., 1., 0., 0., 0., 0., 1., 0., 1., 0., 1., 1., 0.,\n",
       "       0., 1., 1., 0., 0., 0., 1., 0., 1., 1., 1., 1., 0., 0., 0., 1., 1.,\n",
       "       0., 1., 0., 0., 1., 0., 1., 1., 1., 1., 1., 1., 0., 1., 1., 1., 0.,\n",
       "       1., 1., 1., 0., 0., 0., 1., 1., 1., 0., 1., 1., 1., 1., 1., 0., 1.,\n",
       "       0., 1., 0., 0., 1., 0., 1., 0., 0., 0., 1., 1., 1., 0., 0., 0., 0.,\n",
       "       0., 0., 0., 1., 1., 1., 1., 0., 1., 1., 0., 1., 1., 0., 0., 0., 0.,\n",
       "       1., 0., 0., 0., 0., 0., 0., 1., 1., 0., 0., 1., 1., 1., 1., 0., 0.,\n",
       "       0., 1., 1., 1., 0., 0., 1., 1., 1., 0., 0., 1., 0., 0., 1., 0., 0.,\n",
       "       1., 0., 1., 0., 1., 1., 1., 0., 0., 0., 0., 0., 0., 1., 0., 1., 0.,\n",
       "       1., 1., 1., 1., 0., 0., 0., 1., 0., 0., 1., 1., 0., 0., 0., 1., 1.,\n",
       "       0., 1., 1., 1., 0., 1., 1., 1., 0., 0., 0., 1., 1., 0., 1., 0., 0.,\n",
       "       1., 1., 1., 0., 0., 1., 1., 1., 1., 0., 1., 1., 0., 0., 1., 1., 0.,\n",
       "       1., 1., 1., 0., 0., 1., 0., 0., 1., 1., 1., 1., 1., 1., 0., 1., 1.,\n",
       "       0., 1., 1., 1., 0., 1., 0., 1., 1., 1., 1., 0., 0., 0., 1., 1., 1.,\n",
       "       1., 1., 0., 1., 0., 0., 0., 1., 0., 1., 1., 1., 1., 1., 0., 1., 1.,\n",
       "       1., 0., 1., 0., 0., 0., 1., 1., 1., 0., 1., 0., 1., 0., 1., 0., 1.,\n",
       "       0., 0., 1., 0., 1., 0., 1., 1., 0., 0., 0., 1., 1., 1., 0., 1., 1.,\n",
       "       0., 1., 1., 0., 1., 1., 1., 0., 0., 0., 1., 0., 0., 0., 0., 0., 0.,\n",
       "       0., 0., 0., 0., 1., 0., 1., 1., 1., 1., 0., 1., 0., 0., 1., 0., 1.,\n",
       "       1., 0., 0., 0., 0., 1., 1., 0., 1., 0., 0., 0., 0., 0., 0., 1., 0.,\n",
       "       0., 0., 0., 0., 0., 1., 0., 0., 1., 1., 0., 1., 0., 1., 0., 1., 0.,\n",
       "       1., 1., 1., 1., 1., 0., 0., 0., 0., 1., 0., 1., 1., 0., 1., 1., 1.,\n",
       "       0., 0., 1., 0., 1., 1., 0., 0., 0., 1., 0., 1., 0., 0., 1., 0., 0.,\n",
       "       1., 0., 0., 0., 1.])"
      ]
     },
     "execution_count": 259,
     "metadata": {},
     "output_type": "execute_result"
    }
   ],
   "source": [
    "y_test"
   ]
  },
  {
   "cell_type": "code",
   "execution_count": 262,
   "metadata": {},
   "outputs": [
    {
     "data": {
      "text/plain": [
       "0.7792607802874744"
      ]
     },
     "execution_count": 262,
     "metadata": {},
     "output_type": "execute_result"
    }
   ],
   "source": [
    "sum(grid_search_3.best_estimator_.predict(X_test_standard)==y_test) / len(y_test)"
   ]
  }
 ],
 "metadata": {
  "kernelspec": {
   "display_name": "Python 3",
   "language": "python",
   "name": "python3"
  },
  "language_info": {
   "codemirror_mode": {
    "name": "ipython",
    "version": 3
   },
   "file_extension": ".py",
   "mimetype": "text/x-python",
   "name": "python",
   "nbconvert_exporter": "python",
   "pygments_lexer": "ipython3",
   "version": "3.7.4"
  }
 },
 "nbformat": 4,
 "nbformat_minor": 2
}
